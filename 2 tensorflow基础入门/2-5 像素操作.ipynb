{
 "cells": [
  {
   "cell_type": "markdown",
   "metadata": {},
   "source": [
    "1. 像素\n",
    "2. RGB\n",
    "3. 颜色深度 8bit 0-255\n",
    "4. width，height 640*480\n",
    "5. 1.14M = 720* 547* 3* 8/8=1.14M\n",
    "6. png与jpg相比多了一个alpha通道\n",
    "7. RGB读取后，img颜色排序为BGR的格式"
   ]
  },
  {
   "cell_type": "code",
   "execution_count": 1,
   "metadata": {},
   "outputs": [
    {
     "name": "stdout",
     "output_type": "stream",
     "text": [
      "193 202 206\n"
     ]
    }
   ],
   "source": [
    "import cv2\n",
    "img = cv2.imread(\"data/images/cat.100.jpg\",1)\n",
    "(b,g,r) = img[100,100]\n",
    "print(b,g,r)"
   ]
  },
  {
   "cell_type": "code",
   "execution_count": 2,
   "metadata": {},
   "outputs": [
    {
     "data": {
      "text/plain": [
       "-1"
      ]
     },
     "execution_count": 2,
     "metadata": {},
     "output_type": "execute_result"
    }
   ],
   "source": [
    "for i in range(1,100):\n",
    "    img[10+i,100] = (255,0,0)\n",
    "cv2.imshow(\"cat\",img)\n",
    "cv2.waitKey(0)"
   ]
  },
  {
   "cell_type": "code",
   "execution_count": null,
   "metadata": {},
   "outputs": [],
   "source": []
  }
 ],
 "metadata": {
  "kernelspec": {
   "display_name": "Python 3",
   "language": "python",
   "name": "python3"
  },
  "language_info": {
   "codemirror_mode": {
    "name": "ipython",
    "version": 3
   },
   "file_extension": ".py",
   "mimetype": "text/x-python",
   "name": "python",
   "nbconvert_exporter": "python",
   "pygments_lexer": "ipython3",
   "version": "3.6.4"
  }
 },
 "nbformat": 4,
 "nbformat_minor": 2
}
