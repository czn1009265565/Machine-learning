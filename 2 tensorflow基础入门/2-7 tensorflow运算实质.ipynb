{
 "cells": [
  {
   "cell_type": "markdown",
   "metadata": {},
   "source": [
    "## 本质"
   ]
  },
  {
   "cell_type": "markdown",
   "metadata": {},
   "source": [
    "tf = tensor + 计算图（graph）<br>\n",
    "tensor 数据<br>\n",
    "op 运算操作<br>\n",
    "graph 数据操作<br>\n",
    "session <br>"
   ]
  },
  {
   "cell_type": "code",
   "execution_count": null,
   "metadata": {},
   "outputs": [],
   "source": []
  }
 ],
 "metadata": {
  "kernelspec": {
   "display_name": "Python 3",
   "language": "python",
   "name": "python3"
  },
  "language_info": {
   "codemirror_mode": {
    "name": "ipython",
    "version": 3
   },
   "file_extension": ".py",
   "mimetype": "text/x-python",
   "name": "python",
   "nbconvert_exporter": "python",
   "pygments_lexer": "ipython3",
   "version": "3.6.4"
  }
 },
 "nbformat": 4,
 "nbformat_minor": 2
}
