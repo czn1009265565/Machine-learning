{
 "cells": [
  {
   "cell_type": "markdown",
   "metadata": {},
   "source": [
    "# placeholder"
   ]
  },
  {
   "cell_type": "code",
   "execution_count": 11,
   "metadata": {},
   "outputs": [],
   "source": [
    "import tensorflow as tf\n",
    "import numpy as np"
   ]
  },
  {
   "cell_type": "code",
   "execution_count": 4,
   "metadata": {},
   "outputs": [
    {
     "name": "stdout",
     "output_type": "stream",
     "text": [
      "[13. 16.]\n"
     ]
    }
   ],
   "source": [
    "data1 = tf.placeholder(tf.float32)\n",
    "data2 = tf.placeholder(tf.float32)\n",
    "dataAdd = tf.add(data1,data2)\n",
    "with tf.Session() as sess:\n",
    "    print(sess.run(dataAdd,feed_dict={data1:[6,8],data2:[7,8]}))"
   ]
  },
  {
   "cell_type": "markdown",
   "metadata": {},
   "source": [
    "### [[列数据],行[],...]  "
   ]
  },
  {
   "cell_type": "code",
   "execution_count": 5,
   "metadata": {},
   "outputs": [
    {
     "data": {
      "text/plain": [
       "[[1, 2], [2, 3], [4, 5]]"
      ]
     },
     "execution_count": 5,
     "metadata": {},
     "output_type": "execute_result"
    }
   ],
   "source": [
    "[\n",
    " [1,2],\n",
    " [2,3],\n",
    " [4,5],\n",
    "]"
   ]
  },
  {
   "cell_type": "code",
   "execution_count": 6,
   "metadata": {},
   "outputs": [
    {
     "name": "stdout",
     "output_type": "stream",
     "text": [
      "(3, 2)\n"
     ]
    }
   ],
   "source": [
    "data1 = tf.constant([[6,6]])\n",
    "data2 = tf.constant([[2],\n",
    "                     [2]])\n",
    "data3 = tf.constant([[3,3]])\n",
    "data4 = tf.constant([[1,2],\n",
    "                     [3,4],\n",
    "                     [5,6]])\n",
    "print(data4.shape)"
   ]
  },
  {
   "cell_type": "code",
   "execution_count": 7,
   "metadata": {},
   "outputs": [
    {
     "name": "stdout",
     "output_type": "stream",
     "text": [
      "[[1 2]\n",
      " [3 4]\n",
      " [5 6]]\n"
     ]
    }
   ],
   "source": [
    "with tf.Session() as sess:\n",
    "    print(sess.run(data4))"
   ]
  },
  {
   "cell_type": "markdown",
   "metadata": {},
   "source": [
    "## 矩阵运算"
   ]
  },
  {
   "cell_type": "markdown",
   "metadata": {},
   "source": [
    "[矩阵运算图](http://p9tybni1b.bkt.clouddn.com/%E7%9F%A9%E9%98%B5%E8%BF%90%E7%AE%97.png)"
   ]
  },
  {
   "cell_type": "code",
   "execution_count": 16,
   "metadata": {},
   "outputs": [
    {
     "name": "stdout",
     "output_type": "stream",
     "text": [
      "[[24]]\n",
      "[[9 9]]\n",
      "[array([[24]]), array([[9, 9]])]\n"
     ]
    }
   ],
   "source": [
    "matMul = tf.matmul(data1,data2)\n",
    "matAdd = tf.add(data1,data3)\n",
    "with tf.Session() as sess:\n",
    "    print(sess.run(matMul)) # 一维\n",
    "#     a = sess.run(data1)\n",
    "#     b = sess.run(data2)\n",
    "#     print(np.dot(a,b))\n",
    "    print(sess.run(matAdd)) # 一行两列\n",
    "    \n",
    "    # 另一种方式\n",
    "    print(sess.run([matMul,matAdd]))"
   ]
  },
  {
   "cell_type": "code",
   "execution_count": 20,
   "metadata": {
    "scrolled": true
   },
   "outputs": [
    {
     "name": "stdout",
     "output_type": "stream",
     "text": [
      "[[0 0 0]\n",
      " [0 0 0]]\n",
      "[[1 1]\n",
      " [1 1]\n",
      " [1 1]]\n",
      "[[15 15 15]\n",
      " [15 15 15]]\n"
     ]
    }
   ],
   "source": [
    "mat1 = tf.zeros((2,3),dtype=tf.int32)\n",
    "mat2 = tf.ones((3,2),dtype=tf.int32)\n",
    "mat3 = tf.fill((2,3),15)\n",
    "with tf.Session() as sess:\n",
    "    print(sess.run(mat1))\n",
    "    print(sess.run(mat2))\n",
    "    print(sess.run(mat3))"
   ]
  },
  {
   "cell_type": "code",
   "execution_count": 24,
   "metadata": {
    "scrolled": true
   },
   "outputs": [
    {
     "name": "stdout",
     "output_type": "stream",
     "text": [
      "[[0 0 0]\n",
      " [0 0 0]]\n",
      "[[0. 0. 0.]\n",
      " [0. 0. 0.]]\n",
      "[1.        1.1       1.2       1.3       1.4       1.5       1.6\n",
      " 1.7       1.8       1.9000001 2.       ]\n",
      "[[-0.07689846 -0.63873863 -0.4541433 ]\n",
      " [-0.3039292  -0.22477579  0.00877881]]\n"
     ]
    }
   ],
   "source": [
    "mat1 = tf.zeros((2,3),dtype=tf.int32)\n",
    "mat2 = tf.zeros(mat1.shape)\n",
    "mat3 = tf.linspace(1.0,2.0,11)\n",
    "mat4 = tf.random_uniform([2,3],-1,2)\n",
    "with tf.Session() as sess:\n",
    "    print(sess.run(mat1))\n",
    "    print(sess.run(mat2))\n",
    "    print(sess.run(mat3))\n",
    "    print(sess.run(mat4))"
   ]
  },
  {
   "cell_type": "code",
   "execution_count": null,
   "metadata": {},
   "outputs": [],
   "source": []
  }
 ],
 "metadata": {
  "kernelspec": {
   "display_name": "Python 3",
   "language": "python",
   "name": "python3"
  },
  "language_info": {
   "codemirror_mode": {
    "name": "ipython",
    "version": 3
   },
   "file_extension": ".py",
   "mimetype": "text/x-python",
   "name": "python",
   "nbconvert_exporter": "python",
   "pygments_lexer": "ipython3",
   "version": "3.6.4"
  }
 },
 "nbformat": 4,
 "nbformat_minor": 2
}
