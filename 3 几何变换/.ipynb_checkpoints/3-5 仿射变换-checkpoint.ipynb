{
 "cells": [
  {
   "cell_type": "code",
   "execution_count": 2,
   "metadata": {},
   "outputs": [],
   "source": [
    "import cv2\n",
    "import numpy as np"
   ]
  },
  {
   "cell_type": "code",
   "execution_count": 5,
   "metadata": {},
   "outputs": [
    {
     "data": {
      "text/plain": [
       "-1"
      ]
     },
     "execution_count": 5,
     "metadata": {},
     "output_type": "execute_result"
    }
   ],
   "source": [
    "img = cv2.imread(\"image0.jpg\",1)\n",
    "\n",
    "imageInfo = img.shape\n",
    "height = imageInfo[0]\n",
    "width = imageInfo[1]\n",
    "deep = imageInfo[2] # 颜色深度 RGB 三色组成\n",
    "\n",
    "matSrc = np.array([[0,0],[height-1,0],[0,width-1]],dtype=np.float32)\n",
    "matDst = np.array([[50,50],[300,height-200],[width-300,100]],dtype=np.float32)\n",
    "\n",
    "# 组合\n",
    "matAffine = cv2.getAffineTransform(matSrc,matDst)\n",
    "dst = cv2.warpAffine(img,matAffine,(width,height))\n",
    "cv2.imshow(\"image\",img)\n",
    "cv2.imshow(\"dst\",dst)\n",
    "cv2.waitKey(0)"
   ]
  },
  {
   "cell_type": "code",
   "execution_count": null,
   "metadata": {},
   "outputs": [],
   "source": []
  }
 ],
 "metadata": {
  "kernelspec": {
   "display_name": "Python 3",
   "language": "python",
   "name": "python3"
  },
  "language_info": {
   "codemirror_mode": {
    "name": "ipython",
    "version": 3
   },
   "file_extension": ".py",
   "mimetype": "text/x-python",
   "name": "python",
   "nbconvert_exporter": "python",
   "pygments_lexer": "ipython3",
   "version": "3.6.4"
  }
 },
 "nbformat": 4,
 "nbformat_minor": 2
}
