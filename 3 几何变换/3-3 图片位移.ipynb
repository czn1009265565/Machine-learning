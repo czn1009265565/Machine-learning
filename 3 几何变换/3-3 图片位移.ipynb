{
 "cells": [
  {
   "cell_type": "markdown",
   "metadata": {},
   "source": [
    "## 步骤："
   ]
  },
  {
   "cell_type": "markdown",
   "metadata": {},
   "source": [
    "1. API\n",
    "2. 算法原理\n",
    "3. 源代码"
   ]
  },
  {
   "cell_type": "code",
   "execution_count": 1,
   "metadata": {},
   "outputs": [],
   "source": [
    "import cv2\n",
    "import numpy as np"
   ]
  },
  {
   "cell_type": "code",
   "execution_count": 12,
   "metadata": {},
   "outputs": [
    {
     "data": {
      "text/plain": [
       "-1"
      ]
     },
     "execution_count": 12,
     "metadata": {},
     "output_type": "execute_result"
    }
   ],
   "source": [
    "img = cv2.imread(\"image0.jpg\",1)\n",
    "cv2.imshow(\"image\",img)\n",
    "imageInfo = img.shape\n",
    "height = imageInfo[0]\n",
    "width = imageInfo[1]\n",
    "mode = imageInfo[2]\n",
    "\n",
    "matshift = np.float32([[1,0,100],[0,1,20]])\n",
    "dst = cv2.warpAffine(img,matshift,(height,width)) # 1. data 2. 移位矩阵mat 3. 图片信息info\n",
    "cv2.imshow(\"dst\",dst)\n",
    "cv2.waitKey(0)"
   ]
  },
  {
   "cell_type": "code",
   "execution_count": null,
   "metadata": {},
   "outputs": [],
   "source": []
  }
 ],
 "metadata": {
  "kernelspec": {
   "display_name": "Python 3",
   "language": "python",
   "name": "python3"
  },
  "language_info": {
   "codemirror_mode": {
    "name": "ipython",
    "version": 3
   },
   "file_extension": ".py",
   "mimetype": "text/x-python",
   "name": "python",
   "nbconvert_exporter": "python",
   "pygments_lexer": "ipython3",
   "version": "3.6.4"
  }
 },
 "nbformat": 4,
 "nbformat_minor": 2
}
