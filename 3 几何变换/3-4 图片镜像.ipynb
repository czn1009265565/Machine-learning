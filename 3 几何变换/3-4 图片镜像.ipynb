{
 "cells": [
  {
   "cell_type": "markdown",
   "metadata": {},
   "source": [
    "## 实现步骤"
   ]
  },
  {
   "cell_type": "markdown",
   "metadata": {},
   "source": [
    "1. 创建一个足够大的画板\n",
    "2. 将一幅图像分别从前向后、从后向前绘制\n",
    "3. 绘制中心线"
   ]
  },
  {
   "cell_type": "code",
   "execution_count": 19,
   "metadata": {},
   "outputs": [],
   "source": [
    "import cv2\n",
    "import numpy as np\n",
    "\n",
    "\n",
    "img = cv2.imread(\"image0.jpg\",1)\n",
    "\n",
    "imageInfo = img.shape\n",
    "height = imageInfo[0]\n",
    "width = imageInfo[1]\n",
    "deep = imageInfo[2] # 颜色深度 RGB 三色组成"
   ]
  },
  {
   "cell_type": "code",
   "execution_count": 20,
   "metadata": {},
   "outputs": [],
   "source": [
    "newInfo = (height*2,width,deep)\n",
    "dst = np.zeros(newInfo,np.uint8)"
   ]
  },
  {
   "cell_type": "code",
   "execution_count": 27,
   "metadata": {},
   "outputs": [
    {
     "data": {
      "text/plain": [
       "-1"
      ]
     },
     "execution_count": 27,
     "metadata": {},
     "output_type": "execute_result"
    }
   ],
   "source": [
    "for i in range(height):\n",
    "    for j in range(width):\n",
    "        dst[i,j] = img[i,j]\n",
    "        dst[height+i-1,j] = img[height-i-1,j] # 自己推出来的上下翻\n",
    "#        dst[height*2-i-1,j] = img[i,j] 视频中的方式\n",
    "for i in range(width):\n",
    "    dst[height,i] = (0,0,255)\n",
    "cv2.imshow(\"image2\",dst)\n",
    "cv2.waitKey(0)"
   ]
  },
  {
   "cell_type": "code",
   "execution_count": null,
   "metadata": {},
   "outputs": [],
   "source": []
  }
 ],
 "metadata": {
  "kernelspec": {
   "display_name": "Python 3",
   "language": "python",
   "name": "python3"
  },
  "language_info": {
   "codemirror_mode": {
    "name": "ipython",
    "version": 3
   },
   "file_extension": ".py",
   "mimetype": "text/x-python",
   "name": "python",
   "nbconvert_exporter": "python",
   "pygments_lexer": "ipython3",
   "version": "3.6.4"
  }
 },
 "nbformat": 4,
 "nbformat_minor": 2
}
