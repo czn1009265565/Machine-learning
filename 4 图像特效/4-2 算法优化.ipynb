{
 "cells": [
  {
   "cell_type": "code",
   "execution_count": 5,
   "metadata": {},
   "outputs": [
    {
     "data": {
      "text/plain": [
       "-1"
      ]
     },
     "execution_count": 5,
     "metadata": {},
     "output_type": "execute_result"
    }
   ],
   "source": [
    "import cv2\n",
    "import numpy as np\n",
    "\n",
    "img = cv2.imread(\"image0.jpg\",1)\n",
    "imgInfo = img.shape\n",
    "height = imgInfo[0]\n",
    "width = imgInfo[1]\n",
    "dst = np.zeros((height,width,3),np.uint8)\n",
    "for i in range(height):\n",
    "    for j in range(width):\n",
    "        (b,g,r) = img[i,j]\n",
    "        b = int(b)\n",
    "        g = int(g)\n",
    "        r = int(r)\n",
    "#         gray = (r*1+g*2+b*1)/4\n",
    "        gray = (r+(g<<1)+b)>>2\n",
    "        dst[i,j] = np.array([gray,gray,gray],np.uint8)\n",
    "        \n",
    "cv2.imshow(\"dst\",dst)\n",
    "cv2.waitKey(0)"
   ]
  },
  {
   "cell_type": "markdown",
   "metadata": {},
   "source": [
    "## 1.灰度 最重要 2.基础 3.实时性"
   ]
  },
  {
   "cell_type": "markdown",
   "metadata": {},
   "source": [
    "定点运算 > 浮点运算  +- > */"
   ]
  }
 ],
 "metadata": {
  "kernelspec": {
   "display_name": "Python 3",
   "language": "python",
   "name": "python3"
  },
  "language_info": {
   "codemirror_mode": {
    "name": "ipython",
    "version": 3
   },
   "file_extension": ".py",
   "mimetype": "text/x-python",
   "name": "python",
   "nbconvert_exporter": "python",
   "pygments_lexer": "ipython3",
   "version": "3.6.4"
  }
 },
 "nbformat": 4,
 "nbformat_minor": 2
}
