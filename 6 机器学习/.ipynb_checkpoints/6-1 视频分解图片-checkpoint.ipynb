{
 "cells": [
  {
   "cell_type": "markdown",
   "metadata": {},
   "source": [
    "## 视频分解图片\n",
    "1. load\n",
    "2. info\n",
    "3. parse\n",
    "4. imshow\n",
    "5. imwrite"
   ]
  },
  {
   "cell_type": "code",
   "execution_count": 1,
   "metadata": {},
   "outputs": [],
   "source": [
    "import cv2"
   ]
  },
  {
   "cell_type": "code",
   "execution_count": 2,
   "metadata": {},
   "outputs": [
    {
     "name": "stdout",
     "output_type": "stream",
     "text": [
      "<built-in method isOpened of cv2.VideoCapture object at 0x0000021F7340B250>\n"
     ]
    }
   ],
   "source": [
    "cap = cv2.VideoCapture(\"1.mp4\") # 获取一个视频打开的句柄，\n",
    "isOpened = cap.isOpened  # 判断是否打开\n",
    "print(isOpened)"
   ]
  },
  {
   "cell_type": "code",
   "execution_count": 3,
   "metadata": {},
   "outputs": [
    {
     "name": "stdout",
     "output_type": "stream",
     "text": [
      "fps=29.008016032064127,width=540,height=960\n",
      "image1.jpg\n",
      "image2.jpg\n",
      "image3.jpg\n",
      "image4.jpg\n",
      "image5.jpg\n",
      "image6.jpg\n",
      "image7.jpg\n",
      "image8.jpg\n",
      "image9.jpg\n",
      "image10.jpg\n",
      "end!\n"
     ]
    }
   ],
   "source": [
    "fps = cap.get(cv2.CAP_PROP_FPS)\n",
    "width = int(cap.get(cv2.CAP_PROP_FRAME_WIDTH))\n",
    "height = int(cap.get(cv2.CAP_PROP_FRAME_HEIGHT))\n",
    "print(\"fps=%s,width=%s,height=%s\"%(fps,width,height))\n",
    "\n",
    "i = 0\n",
    "while isOpened:\n",
    "    if i ==10:\n",
    "        break\n",
    "    else:\n",
    "        i +=1\n",
    "    (flag,frame) = cap.read() # 读取每一张flag，frame\n",
    "    fileName = \"image\"+str(i)+\".jpg\"\n",
    "    print(fileName)\n",
    "    \n",
    "    if flag ==True:\n",
    "        cv2.imwrite(fileName,frame,[cv2.IMWRITE_JPEG_QUALITY,100])\n",
    "        \n",
    "print(\"end!\")\n",
    "    "
   ]
  },
  {
   "cell_type": "code",
   "execution_count": null,
   "metadata": {},
   "outputs": [],
   "source": []
  }
 ],
 "metadata": {
  "kernelspec": {
   "display_name": "Python 3",
   "language": "python",
   "name": "python3"
  },
  "language_info": {
   "codemirror_mode": {
    "name": "ipython",
    "version": 3
   },
   "file_extension": ".py",
   "mimetype": "text/x-python",
   "name": "python",
   "nbconvert_exporter": "python",
   "pygments_lexer": "ipython3",
   "version": "3.6.4"
  }
 },
 "nbformat": 4,
 "nbformat_minor": 2
}
