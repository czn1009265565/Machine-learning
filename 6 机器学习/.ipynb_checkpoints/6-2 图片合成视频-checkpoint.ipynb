{
 "cells": [
  {
   "cell_type": "code",
   "execution_count": 3,
   "metadata": {},
   "outputs": [],
   "source": [
    "import cv2"
   ]
  },
  {
   "cell_type": "code",
   "execution_count": 4,
   "metadata": {},
   "outputs": [
    {
     "name": "stdout",
     "output_type": "stream",
     "text": [
      "(540, 960)\n",
      "end!\n"
     ]
    }
   ],
   "source": [
    "img1 = cv2.imread(\"image1.jpg\")\n",
    "imageInfo = img1.shape\n",
    "size = (imageInfo[1],imageInfo[0])\n",
    "print(size)\n",
    "\n",
    "videoWriter = cv2.VideoWriter('2.mp4',-1,5,size) # 1. file name 2. 编码器 3. 帧率 4. size\n",
    "for i in range(1,11):\n",
    "    fileName = \"image\"+ str(i) +\".jpg\"\n",
    "    img = cv2.imread(fileName)\n",
    "    videoWriter.write(img)\n",
    "print(\"end!\")"
   ]
  },
  {
   "cell_type": "code",
   "execution_count": null,
   "metadata": {},
   "outputs": [],
   "source": []
  }
 ],
 "metadata": {
  "kernelspec": {
   "display_name": "Python 3",
   "language": "python",
   "name": "python3"
  },
  "language_info": {
   "codemirror_mode": {
    "name": "ipython",
    "version": 3
   },
   "file_extension": ".py",
   "mimetype": "text/x-python",
   "name": "python",
   "nbconvert_exporter": "python",
   "pygments_lexer": "ipython3",
   "version": "3.6.4"
  }
 },
 "nbformat": 4,
 "nbformat_minor": 2
}
