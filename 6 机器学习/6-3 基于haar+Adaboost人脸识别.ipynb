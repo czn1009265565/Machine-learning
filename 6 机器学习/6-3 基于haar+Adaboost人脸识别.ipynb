{
 "cells": [
  {
   "cell_type": "markdown",
   "metadata": {},
   "source": [
    "### 1.什么是haar?\n",
    "####  特征 = 像素 运算得到的结果（具体值，向量，矩阵，多维）"
   ]
  },
  {
   "cell_type": "markdown",
   "metadata": {},
   "source": [
    "### 2.如何利用特征 区分目标？ 阈值判断\n",
    "### 3.得到判决？机器学习"
   ]
  },
  {
   "cell_type": "code",
   "execution_count": 2,
   "metadata": {},
   "outputs": [],
   "source": [
    "# 步骤 1. 特征 2. 判决 3. 得到判决\n",
    "# haar 模板 滑动 缩放（10x10 11x11...20x20）\n",
    "# 举例 1080*720 step2 10*10\n",
    "# 计算量 = 14个模板 * 20 缩放 * （1080/2*720/2）* （100 +- 运算） == 50-100亿次"
   ]
  },
  {
   "cell_type": "code",
   "execution_count": 3,
   "metadata": {},
   "outputs": [],
   "source": [
    "# A:1\n",
    "# B:1,2\n",
    "# C:1,3\n",
    "# D:1,4\n",
    "# 特征 = （A-B-C+D）*w   (3+-Y运算)"
   ]
  },
  {
   "cell_type": "markdown",
   "metadata": {},
   "source": [
    "### 分类器的结构 adaboost计算过程 xml文件结构"
   ]
  },
  {
   "cell_type": "code",
   "execution_count": 4,
   "metadata": {},
   "outputs": [],
   "source": [
    "# 3个强分类器 1. x1 t1 2. x2 t2 3. x3 t3\n",
    "# x1 >t1 and x2>t2 and x3>t3  目标==> 苹果"
   ]
  },
  {
   "cell_type": "code",
   "execution_count": 6,
   "metadata": {},
   "outputs": [],
   "source": [
    "import cv2\n",
    "import numpy as np"
   ]
  },
  {
   "cell_type": "code",
   "execution_count": 7,
   "metadata": {},
   "outputs": [
    {
     "name": "stdout",
     "output_type": "stream",
     "text": [
      " 驱动器 C 中的卷没有标签。\n",
      " 卷的序列号是 7AF6-5F36\n",
      "\n",
      " C:\\Users\\CZN\\tensorflow\\6 机器学习 的目录\n",
      "\n",
      "2018/06/15  15:14    <DIR>          .\n",
      "2018/06/15  15:14    <DIR>          ..\n",
      "2018/06/15  13:39    <DIR>          .ipynb_checkpoints\n",
      "2017/12/10  14:59           932,375 1.mp4\n",
      "2018/06/15  12:03         7,778,304 2.avi\n",
      "2018/06/15  11:34             2,510 6-1 视频分解图片.ipynb\n",
      "2018/06/15  13:36             1,365 6-2 图片合成视频.ipynb\n",
      "2018/06/15  15:14             2,083 6-3 基于haar+Adaboost人脸识别.ipynb\n",
      "2018/02/01  20:42             7,084 face.jpg\n",
      "2017/10/23  23:41           341,406 haarcascade_eye.xml\n",
      "2017/10/23  23:41           930,127 haarcascade_frontalface_default.xml\n",
      "2018/06/15  11:34           181,262 image1.jpg\n",
      "2018/06/15  11:34           188,102 image10.jpg\n",
      "2018/06/15  11:34           173,639 image2.jpg\n",
      "2018/06/15  11:34           183,390 image3.jpg\n",
      "2018/06/15  11:34           185,036 image4.jpg\n",
      "2018/06/15  11:34           183,933 image5.jpg\n",
      "2018/06/15  11:34           186,915 image6.jpg\n",
      "2018/06/15  11:34           185,410 image7.jpg\n",
      "2018/06/15  11:34           192,526 image8.jpg\n",
      "2018/06/15  11:34           176,089 image9.jpg\n",
      "              18 个文件     11,831,556 字节\n",
      "               3 个目录 121,253,097,472 可用字节\n"
     ]
    }
   ],
   "source": [
    "! dir"
   ]
  },
  {
   "cell_type": "code",
   "execution_count": 10,
   "metadata": {},
   "outputs": [
    {
     "data": {
      "text/plain": [
       "-1"
      ]
     },
     "execution_count": 10,
     "metadata": {},
     "output_type": "execute_result"
    }
   ],
   "source": [
    "face_xml = cv2.CascadeClassifier(\"haarcascade_frontalface_default.xml\")\n",
    "eye_xml = cv2.CascadeClassifier(\"haarcascade_eye.xml\")\n",
    "# load jpg\n",
    "src = cv2.imread(\"face.jpg\")\n",
    "cv2.imshow(\"src\",src)\n",
    "# cv2.waitKey(0)\n",
    "gray = cv2.cvtColor(src,cv2.COLOR_BGR2GRAY)\n",
    "face = face_xml.detectMultiScale(gray,1.3,5)\n",
    "print(\"face=\",len(face))"
   ]
  },
  {
   "cell_type": "code",
   "execution_count": null,
   "metadata": {},
   "outputs": [],
   "source": []
  }
 ],
 "metadata": {
  "kernelspec": {
   "display_name": "Python 3",
   "language": "python",
   "name": "python3"
  },
  "language_info": {
   "codemirror_mode": {
    "name": "ipython",
    "version": 3
   },
   "file_extension": ".py",
   "mimetype": "text/x-python",
   "name": "python",
   "nbconvert_exporter": "python",
   "pygments_lexer": "ipython3",
   "version": "3.6.4"
  }
 },
 "nbformat": 4,
 "nbformat_minor": 2
}
