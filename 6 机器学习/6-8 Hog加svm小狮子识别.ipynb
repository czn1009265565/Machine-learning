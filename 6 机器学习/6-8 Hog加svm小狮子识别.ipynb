{
 "cells": [
  {
   "cell_type": "markdown",
   "metadata": {},
   "source": [
    "## 样本的获取"
   ]
  },
  {
   "cell_type": "markdown",
   "metadata": {},
   "source": [
    "1. 网络\n",
    "2. 公司内部\n",
    "3. 自己收集"
   ]
  },
  {
   "cell_type": "code",
   "execution_count": 2,
   "metadata": {},
   "outputs": [],
   "source": [
    "# 样本多样（环境、干扰多样）\n",
    "# 步骤：\n",
    "# 1. 代码参数设置 2. hog 3. svm 4. hog计算 5. label 6. train 7. pred 8. draw"
   ]
  },
  {
   "cell_type": "code",
   "execution_count": 4,
   "metadata": {},
   "outputs": [],
   "source": [
    "import cv2\n",
    "import numpy as np\n",
    "import matplotlib.pyplot as plt\n",
    "from sklearn import svm"
   ]
  },
  {
   "cell_type": "code",
   "execution_count": 29,
   "metadata": {
    "scrolled": true
   },
   "outputs": [
    {
     "name": "stdout",
     "output_type": "stream",
     "text": [
      "-1\n"
     ]
    }
   ],
   "source": [
    "# par\n",
    "posNum = 820\n",
    "negNum = 1931\n",
    "winSize = (64,128)\n",
    "blockSize = (16,16)\n",
    "blockStride = (8,8)\n",
    "cellSize = (8,8)\n",
    "nBin = 9\n",
    "\n",
    "# create hog object\n",
    "hog = cv2.HOGDescriptor(winSize,blockSize,blockStride,cellSize,nBin)\n",
    "\n",
    "# svm\n",
    "clf = svm.SVC()\n",
    "\n",
    "# 计算hog\n",
    "featureNum = int(((128-16)/8+1)*((64-16)/8+1)*4*9) # 3780维\n",
    "featureArray = np.zeros((posNum+negNum,featureNum),np.float32)\n",
    "labelArray = np.zeros((posNum+negNum,1),np.int32)\n",
    "\n",
    "for i in range(posNum):\n",
    "    fileName = \"pos\\\\\"+str(i+1)+\".jpg\"\n",
    "    img = cv2.imread(fileName)\n",
    "    hist = hog.compute(img,(8,8)) # 3780\n",
    "#     print(hist)\n",
    "#     break\n",
    "    for j in range(featureNum):\n",
    "        featureArray[i,j] = hist[j]\n",
    "    labelArray[i,0] = 1 # 正样本 1\n",
    "    \n",
    "for i in range(negNum):\n",
    "    fileName = \"neg\\\\\"+str(i+1)+\".jpg\"\n",
    "    img = cv2.imread(fileName)\n",
    "    hist = hog.compute(img,(8,8))\n",
    "    for j in range(featureNum):\n",
    "        featureArray[i+posNum,j] = hist[j]\n",
    "    labelArray[i+posNum,0] = -1 # 负样本 -1\n",
    "    \n",
    "# sklearn svm\n",
    "labelArray = labelArray.reshape(posNum+negNum)\n",
    "clf.fit(featureArray,labelArray)\n",
    "\n",
    "# 检测\n",
    "# myDetect = np.zeros((3781),np.float32)\n",
    "imgSrc = cv2.imread(\"Test2.jpg\")\n",
    "imgSrc = cv2.resize(imgSrc,(64,128))\n",
    "# cv2.imshow(\"img\",imgSrc)\n",
    "# cv2.waitKey(0)\n",
    "hist = hog.compute(imgSrc,(8,8)).reshape((1,3780))\n",
    "# print(hist)\n",
    "print(clf.predict(hist)[0])"
   ]
  },
  {
   "cell_type": "code",
   "execution_count": null,
   "metadata": {},
   "outputs": [],
   "source": []
  }
 ],
 "metadata": {
  "kernelspec": {
   "display_name": "Python 3",
   "language": "python",
   "name": "python3"
  },
  "language_info": {
   "codemirror_mode": {
    "name": "ipython",
    "version": 3
   },
   "file_extension": ".py",
   "mimetype": "text/x-python",
   "name": "python",
   "nbconvert_exporter": "python",
   "pygments_lexer": "ipython3",
   "version": "3.6.4"
  }
 },
 "nbformat": 4,
 "nbformat_minor": 2
}
