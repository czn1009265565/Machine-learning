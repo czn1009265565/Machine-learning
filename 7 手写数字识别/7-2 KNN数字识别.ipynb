{
 "cells": [
  {
   "cell_type": "markdown",
   "metadata": {},
   "source": [
    "### 本质：KNN的主要思想是找到与待测样本最接近的k个样本，然后把这k个样本出现次数最多的类别作为待测样本的类别"
   ]
  },
  {
   "cell_type": "code",
   "execution_count": 10,
   "metadata": {},
   "outputs": [],
   "source": [
    "import tensorflow as tf\n",
    "import numpy as np\n",
    "import random\n",
    "import cv2\n",
    "import matplotlib.pyplot as plt"
   ]
  },
  {
   "cell_type": "code",
   "execution_count": 21,
   "metadata": {},
   "outputs": [
    {
     "name": "stdout",
     "output_type": "stream",
     "text": [
      "Extracting MNIST\\train-images-idx3-ubyte.gz\n",
      "Extracting MNIST\\train-labels-idx1-ubyte.gz\n",
      "Extracting MNIST\\t10k-images-idx3-ubyte.gz\n",
      "Extracting MNIST\\t10k-labels-idx1-ubyte.gz\n"
     ]
    }
   ],
   "source": [
    "from tensorflow.examples.tutorials.mnist import input_data\n",
    "mnist = input_data.read_data_sets(\"MNIST\",one_hot=True)\n",
    "# 属性设置\n",
    "trainNum = 55000\n",
    "testNum = 10000\n",
    "trainSize = 500\n",
    "testSize = 5"
   ]
  },
  {
   "cell_type": "code",
   "execution_count": 24,
   "metadata": {},
   "outputs": [
    {
     "name": "stdout",
     "output_type": "stream",
     "text": [
      "trainData.shape= (500, 784)\n",
      "trainLabels.shape= (500, 10)\n",
      "testData.shape= (5, 784)\n",
      "testLabels.shape= (5, 10)\n"
     ]
    }
   ],
   "source": [
    "# data 分解 详情看np.random.choice()\n",
    "trainIndex = np.random.choice(trainNum,trainSize,replace=False)\n",
    "testIndex = np.random.choice(testNum,testSize,replace=False)\n",
    "trainData = mnist.train.images[trainIndex] # 获取训练图片\n",
    "trainLabels = mnist.train.labels[trainIndex] # 获取训练标签\n",
    "testData = mnist.test.images[testIndex]\n",
    "testLabels = mnist.test.labels[testIndex]\n",
    "print(\"trainData.shape=\",trainData.shape)\n",
    "print(\"trainLabels.shape=\",trainLabels.shape)\n",
    "print(\"testData.shape=\",testData.shape)\n",
    "print(\"testLabels.shape=\",testLabels.shape)"
   ]
  },
  {
   "cell_type": "code",
   "execution_count": 31,
   "metadata": {},
   "outputs": [
    {
     "name": "stdout",
     "output_type": "stream",
     "text": [
      "9\n"
     ]
    },
    {
     "data": {
      "text/plain": [
       "<matplotlib.image.AxesImage at 0x14019d65ef0>"
      ]
     },
     "execution_count": 31,
     "metadata": {},
     "output_type": "execute_result"
    },
    {
     "data": {
      "image/png": "[encoded data removed]",
      "text/plain": [
       "<matplotlib.figure.Figure at 0x14019ceaa58>"
      ]
     },
     "metadata": {},
     "output_type": "display_data"
    }
   ],
   "source": [
    "# 展示一下图片和标签\n",
    "img = trainData[0].reshape((28,28))\n",
    "# print(trainData[0])\n",
    "print(np.argmax(trainLabels[0]))\n",
    "plt.imshow(img,cmap=\"binary\")\n",
    "# # cv2.imshow(\"img\",img)\n",
    "# # cv2.waitKey(0)"
   ]
  },
  {
   "cell_type": "code",
   "execution_count": 28,
   "metadata": {},
   "outputs": [],
   "source": [
    "# tf input  \n",
    "trainDataInput = tf.placeholder(tf.float32,[None,784])\n",
    "trainLabelInput = tf.palceholder(tf.float32,[None,10])\n",
    "testDataInput = tf.placeholder(tf.float32,[None,784])\n",
    "testLabelInput = tf.palceholder(tf.float32,[None,10])"
   ]
  },
  {
   "cell_type": "code",
   "execution_count": null,
   "metadata": {},
   "outputs": [],
   "source": [
    "# knn distance\n",
    "f1 = tf.expand_dims(testDataInput,1) # 维度扩展\n",
    "f2 = tf.subtract(trainDataInput,f1)\n",
    "f3 = tf.reduce_sum(tf.abs(f2),reduction_indices=2) # 完成数据累加 784像素点的差值"
   ]
  }
 ],
 "metadata": {
  "kernelspec": {
   "display_name": "Python 3",
   "language": "python",
   "name": "python3"
  },
  "language_info": {
   "codemirror_mode": {
    "name": "ipython",
    "version": 3
   },
   "file_extension": ".py",
   "mimetype": "text/x-python",
   "name": "python",
   "nbconvert_exporter": "python",
   "pygments_lexer": "ipython3",
   "version": "3.6.4"
  }
 },
 "nbformat": 4,
 "nbformat_minor": 2
}
