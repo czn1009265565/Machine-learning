{
 "cells": [
  {
   "cell_type": "markdown",
   "metadata": {},
   "source": [
    "### 本质：KNN的主要思想是找到与待测样本最接近的k个样本，然后把这k个样本出现次数最多的类别作为待测样本的类别"
   ]
  },
  {
   "cell_type": "markdown",
   "metadata": {},
   "source": [
    "## 步骤："
   ]
  },
  {
   "cell_type": "markdown",
   "metadata": {},
   "source": [
    "1. load data # 随机数加载 np.random.choice() train test {iamges,labels}\n",
    "2. knn test train distance 5*500=2500次\n",
    "3. knn k个最近的图片 每张test对应500张train，找出最近的4张\n",
    "4. 获得最近四张图片的下标\n",
    "5. 获得具体的数字\n",
    "6. 检测概率统计"
   ]
  },
  {
   "cell_type": "code",
   "execution_count": 1,
   "metadata": {},
   "outputs": [],
   "source": [
    "import tensorflow as tf\n",
    "import numpy as np\n",
    "import random\n",
    "import cv2\n",
    "import matplotlib.pyplot as plt"
   ]
  },
  {
   "cell_type": "code",
   "execution_count": 7,
   "metadata": {},
   "outputs": [
    {
     "name": "stdout",
     "output_type": "stream",
     "text": [
      "Extracting MNIST\\train-images-idx3-ubyte.gz\n",
      "Extracting MNIST\\train-labels-idx1-ubyte.gz\n",
      "Extracting MNIST\\t10k-images-idx3-ubyte.gz\n",
      "Extracting MNIST\\t10k-labels-idx1-ubyte.gz\n"
     ]
    }
   ],
   "source": [
    "from tensorflow.examples.tutorials.mnist import input_data\n",
    "mnist = input_data.read_data_sets(\"MNIST\",one_hot=True)\n",
    "# 属性设置\n",
    "trainNum = 55000\n",
    "testNum = 10000\n",
    "trainSize = 500\n",
    "testSize = 5"
   ]
  },
  {
   "cell_type": "code",
   "execution_count": 38,
   "metadata": {},
   "outputs": [
    {
     "name": "stdout",
     "output_type": "stream",
     "text": [
      "trainData.shape= (500, 784)\n",
      "trainLabels.shape= (500, 10)\n",
      "testData.shape= (5, 784)\n",
      "testLabels.shape= (5, 10)\n"
     ]
    }
   ],
   "source": [
    "# data 分解 详情看np.random.choice()\n",
    "trainIndex = np.random.choice(trainNum,trainSize,replace=False)\n",
    "testIndex = np.random.choice(testNum,testSize,replace=False)\n",
    "trainData = mnist.train.images[trainIndex] # 获取训练图片\n",
    "trainLabels = mnist.train.labels[trainIndex] # 获取训练标签\n",
    "testData = mnist.test.images[testIndex]\n",
    "testLabels = mnist.test.labels[testIndex]\n",
    "print(\"trainData.shape=\",trainData.shape)\n",
    "print(\"trainLabels.shape=\",trainLabels.shape)\n",
    "print(\"testData.shape=\",testData.shape)\n",
    "print(\"testLabels.shape=\",testLabels.shape)"
   ]
  },
  {
   "cell_type": "code",
   "execution_count": 39,
   "metadata": {},
   "outputs": [
    {
     "name": "stdout",
     "output_type": "stream",
     "text": [
      "2\n"
     ]
    },
    {
     "data": {
      "text/plain": [
       "<matplotlib.image.AxesImage at 0x22c6021e630>"
      ]
     },
     "execution_count": 39,
     "metadata": {},
     "output_type": "execute_result"
    },
    {
     "data": {
      "image/png": "[encoded data removed]",
      "text/plain": [
       "<matplotlib.figure.Figure at 0x22c60b25390>"
      ]
     },
     "metadata": {},
     "output_type": "display_data"
    }
   ],
   "source": [
    "# 展示一下图片和标签\n",
    "img = trainData[0].reshape((28,28))\n",
    "# print(trainData[0])\n",
    "print(np.argmax(trainLabels[0]))\n",
    "plt.imshow(img,cmap=\"binary\")\n",
    "# # cv2.imshow(\"img\",img)\n",
    "# # cv2.waitKey(0)"
   ]
  },
  {
   "cell_type": "code",
   "execution_count": 40,
   "metadata": {},
   "outputs": [],
   "source": [
    "# tf input  \n",
    "trainDataInput = tf.placeholder(tf.float32,[None,784])\n",
    "trainLabelInput = tf.placeholder(tf.float32,[None,10])\n",
    "testDataInput = tf.placeholder(tf.float32,[None,784])\n",
    "testLabelInput = tf.placeholder(tf.float32,[None,10])"
   ]
  },
  {
   "cell_type": "code",
   "execution_count": 41,
   "metadata": {
    "scrolled": true
   },
   "outputs": [
    {
     "name": "stdout",
     "output_type": "stream",
     "text": [
      "(5, 1, 784)\n",
      "(5, 500, 784)\n",
      "(5, 500) 第一张的距离为= 175.953\n",
      "p4的shape= (5, 500)\n",
      "p5.shape= (5, 4)\n",
      "p6.shape= (5, 4)\n",
      "p7= (5, 4, 10)\n",
      "p8.shape= (5, 10)\n",
      "[7 1 3 3 8]\n",
      "============================================================\n",
      "[7 2 3 3 8]\n",
      "[7 1 3 3 8]\n",
      "80.0 %\n"
     ]
    }
   ],
   "source": [
    "# knn distance的计算\n",
    "f1 = tf.expand_dims(testDataInput,1) # 维度扩展\n",
    "f2 = tf.subtract(trainDataInput,f1)\n",
    "f3 = tf.reduce_sum(tf.abs(f2),reduction_indices=2) # 完成数据累加 784像素点的差值\n",
    "f4 = tf.negative(f3) # 取反\n",
    "f5,f6 = tf.nn.top_k(f4,k=4) # 选取f4中最大的四个值,f5是值，f6是下标\n",
    "f7 = tf.gather(trainLabelInput,f6) # 取对应图片的labels\n",
    "f8 = tf.reduce_sum(f7,reduction_indices=1)\n",
    "f9 = tf.argmax(f8,axis=1) # 选取在某一个最大的值的index\n",
    "\n",
    "with tf.Session() as sess:\n",
    "    p1 = sess.run(f1,feed_dict={testDataInput:testData[:5]})\n",
    "    print(p1.shape)\n",
    "    p2 = sess.run(f2,feed_dict={trainDataInput:trainData,testDataInput:testData[:5]})\n",
    "    print(p2.shape)\n",
    "    p3 = sess.run(f3,feed_dict={trainDataInput:trainData,testDataInput:testData[:5]})\n",
    "    print(p3.shape,\"第一张的距离为=\",p3[0,0])\n",
    "    p4 = sess.run(f4,feed_dict={trainDataInput:trainData,testDataInput:testData[:5]})\n",
    "    print(\"p4的shape=\",p4.shape)\n",
    "    \n",
    "    p5,p6 = sess.run([f5,f6],feed_dict={trainDataInput:trainData,testDataInput:testData[:5]})\n",
    "    print(\"p5.shape=\",p5.shape) # 值\n",
    "    print(\"p6.shape=\",p6.shape) # 对应值的下标\n",
    "    \n",
    "    p7 = sess.run(f7,feed_dict={trainDataInput:trainData,testDataInput:testData[:5],trainLabelInput:trainLabels})\n",
    "#     print(np.argmax(p7,axis=2))\n",
    "    print(\"p7=\",p7.shape)\n",
    "    \n",
    "    p8 = sess.run(f8,feed_dict={trainDataInput:trainData,testDataInput:testData[:5],trainLabelInput:trainLabels})\n",
    "    print(\"p8.shape=\",p8.shape)\n",
    "    p9 = sess.run(f9,feed_dict={trainDataInput:trainData,testDataInput:testData[:5],trainLabelInput:trainLabels})\n",
    "    print(p9)\n",
    "print(\"===\"*20)\n",
    "y = np.argmax(testLabels,axis=1)\n",
    "count = 0\n",
    "print(y)\n",
    "print(p9)\n",
    "for i in range(5):\n",
    "    if p9[i]==y[i]:\n",
    "        count += 1\n",
    "\n",
    "print(count*100/5,\"%\")\n",
    "    "
   ]
  },
  {
   "cell_type": "code",
   "execution_count": null,
   "metadata": {},
   "outputs": [],
   "source": []
  }
 ],
 "metadata": {
  "kernelspec": {
   "display_name": "Python 3",
   "language": "python",
   "name": "python3"
  },
  "language_info": {
   "codemirror_mode": {
    "name": "ipython",
    "version": 3
   },
   "file_extension": ".py",
   "mimetype": "text/x-python",
   "name": "python",
   "nbconvert_exporter": "python",
   "pygments_lexer": "ipython3",
   "version": "3.6.4"
  }
 },
 "nbformat": 4,
 "nbformat_minor": 2
}
