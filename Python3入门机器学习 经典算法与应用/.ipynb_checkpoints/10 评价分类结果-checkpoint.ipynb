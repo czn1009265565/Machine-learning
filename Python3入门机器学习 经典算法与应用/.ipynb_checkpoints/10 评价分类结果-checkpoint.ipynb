{
 "cells": [
  {
   "cell_type": "markdown",
   "metadata": {},
   "source": [
    "## 准确度评价指标"
   ]
  },
  {
   "cell_type": "markdown",
   "metadata": {},
   "source": [
    "### 回归准确度：\n",
    "R squared\n",
    "### 分类准确度：\n",
    "对于极度偏斜的数据，只使用分类准确度是远远不够的。<br>\n",
    "np.sum(test_Y==testY)/len(testY) # 存在问题<br>\n",
    "==>使用混淆矩阵做进一步的分析\n",
    "\n"
   ]
  },
  {
   "cell_type": "code",
   "execution_count": null,
   "metadata": {},
   "outputs": [],
   "source": []
  }
 ],
 "metadata": {
  "kernelspec": {
   "display_name": "Python 3",
   "language": "python",
   "name": "python3"
  },
  "language_info": {
   "codemirror_mode": {
    "name": "ipython",
    "version": 3
   },
   "file_extension": ".py",
   "mimetype": "text/x-python",
   "name": "python",
   "nbconvert_exporter": "python",
   "pygments_lexer": "ipython3",
   "version": "3.6.4"
  }
 },
 "nbformat": 4,
 "nbformat_minor": 2
}
