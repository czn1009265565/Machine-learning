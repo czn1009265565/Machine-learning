{
 "cells": [
  {
   "cell_type": "markdown",
   "metadata": {},
   "source": [
    "## KNN 算法介绍"
   ]
  },
  {
   "cell_type": "markdown",
   "metadata": {},
   "source": [
    "1. 思考极度简单\n",
    "2. 应用数学只是少\n",
    "3. 效果好\n",
    "4. 可以解释机器学习算法使用过程中的很多细节问题\n",
    "5. 更完整的刻画机器学习应用的流程\n",
    "6. kNN 算法可以被认为是没有模型的算法\n",
    "7. 也可以认为训练集本身就是模型本身"
   ]
  },
  {
   "cell_type": "markdown",
   "metadata": {},
   "source": [
    " ### 对一个算法的掌握无非知其然，也知其所以然\n",
    "1. 知道如何调用，其使用方法\n",
    "2. 知道原理，其底层实现过程"
   ]
  },
  {
   "cell_type": "code",
   "execution_count": 1,
   "metadata": {},
   "outputs": [],
   "source": [
    "import numpy as np\n",
    "import matplotlib.pyplot as plt"
   ]
  },
  {
   "cell_type": "code",
   "execution_count": 17,
   "metadata": {},
   "outputs": [
    {
     "data": {
      "text/plain": [
       "array([[0.4684, 1.2542]])"
      ]
     },
     "execution_count": 17,
     "metadata": {},
     "output_type": "execute_result"
    }
   ],
   "source": [
    "train_data = np.random.normal(scale=1,size=(10,2))\n",
    "train_label = np.zeros(10,dtype=np.int32)\n",
    "train_label[5:] = 1\n",
    "test_data = np.array([0.4684,1.2542])\n",
    "test_data = np.reshape(test_data,(-1,2))\n",
    "test_data"
   ]
  },
  {
   "cell_type": "code",
   "execution_count": 3,
   "metadata": {},
   "outputs": [
    {
     "data": {
      "text/plain": [
       "array([[-0.25725126,  1.34752709],\n",
       "       [-0.32655629, -0.10688602],\n",
       "       [-0.42263456,  0.82483864],\n",
       "       [-1.10812943,  0.12445211],\n",
       "       [ 0.2557011 , -0.37283807],\n",
       "       [ 1.06401452,  2.12465723],\n",
       "       [-1.13952693,  0.85715184],\n",
       "       [ 0.47794443,  2.51193305],\n",
       "       [-0.40683679, -1.22528252],\n",
       "       [-0.37211838,  0.56309269]])"
      ]
     },
     "execution_count": 3,
     "metadata": {},
     "output_type": "execute_result"
    }
   ],
   "source": [
    "train_data"
   ]
  },
  {
   "cell_type": "code",
   "execution_count": 4,
   "metadata": {},
   "outputs": [
    {
     "data": {
      "image/png": "[encoded data removed]",
      "text/plain": [
       "<Figure size 432x288 with 1 Axes>"
      ]
     },
     "metadata": {},
     "output_type": "display_data"
    }
   ],
   "source": [
    "plt.scatter(train_data[:5,0],train_data[:5,1],color='g')\n",
    "plt.scatter(train_data[5:,0],train_data[5:,1],color='r')\n",
    "plt.scatter(test_data[0,0],test_data[0,1],color='b')\n",
    "plt.show()"
   ]
  },
  {
   "cell_type": "code",
   "execution_count": 5,
   "metadata": {},
   "outputs": [
    {
     "data": {
      "text/plain": [
       "array([[0.73162812, 1.57623305, 0.98908734, 1.93952967, 1.64088199,\n",
       "        1.05472861, 1.65622349, 1.25776926, 2.62942446, 1.0881638 ]])"
      ]
     },
     "execution_count": 5,
     "metadata": {},
     "output_type": "execute_result"
    }
   ],
   "source": [
    "test_data = np.reshape(test_data,[1,1,2])\n",
    "distances = np.subtract(test_data,train_data)\n",
    "distances = np.sqrt(np.power(distances[:,:,0],2)+np.power(distances[:,:,1],2))\n",
    "distances.shape\n",
    "distances"
   ]
  },
  {
   "cell_type": "code",
   "execution_count": 6,
   "metadata": {},
   "outputs": [
    {
     "name": "stdout",
     "output_type": "stream",
     "text": [
      "[0 2 5]\n",
      "0\n"
     ]
    }
   ],
   "source": [
    "index = np.argsort(distances.reshape(10))[:3]\n",
    "# for i in index:\n",
    "#     print(train_label[i])\n",
    "print(index)\n",
    "pred = [train_label[i] for i in index]\n",
    "from collections import Counter\n",
    "cls = Counter(pred).most_common(1)\n",
    "print(cls[0][0])"
   ]
  },
  {
   "cell_type": "markdown",
   "metadata": {},
   "source": [
    "### 函数封装"
   ]
  },
  {
   "cell_type": "code",
   "execution_count": 7,
   "metadata": {},
   "outputs": [],
   "source": [
    "from collections import Counter\n",
    "\n",
    "import numpy as np\n",
    "\n",
    "\n",
    "def KNN_classify(k,trainX,trainY,testX):\n",
    "    assert 1<=k<=trainX.shape[0],\"k must be a valid\"\n",
    "    distances = [np.sqrt(np.sum(np.power((train_x-testX),2))) for train_x in trainX]\n",
    "    index = np.argsort(distances)[:k]\n",
    "    pred = [trainY[i] for i in index]\n",
    "    cls = Counter(pred).most_common(1)\n",
    "    return cls[0][0]"
   ]
  },
  {
   "cell_type": "code",
   "execution_count": 8,
   "metadata": {},
   "outputs": [
    {
     "data": {
      "text/plain": [
       "0"
      ]
     },
     "execution_count": 8,
     "metadata": {},
     "output_type": "execute_result"
    }
   ],
   "source": [
    "KNN_classify(3,train_data,tra in_label,test_data)"
   ]
  },
  {
   "cell_type": "markdown",
   "metadata": {},
   "source": [
    "### 使用scikit中的KNN"
   ]
  },
  {
   "cell_type": "code",
   "execution_count": 14,
   "metadata": {},
   "outputs": [],
   "source": [
    "from sklearn.neighbors import KNeighborsClassifier"
   ]
  },
  {
   "cell_type": "code",
   "execution_count": 18,
   "metadata": {},
   "outputs": [
    {
     "data": {
      "text/plain": [
       "array([0])"
      ]
     },
     "execution_count": 18,
     "metadata": {},
     "output_type": "execute_result"
    }
   ],
   "source": [
    "Knn = KNeighborsClassifier(n_neighbors=3)\n",
    "Knn.fit(train_data,train_label)\n",
    "Knn.predict(test_data)"
   ]
  },
  {
   "cell_type": "markdown",
   "metadata": {},
   "source": [
    "### 自己实现knn"
   ]
  },
  {
   "cell_type": "code",
   "execution_count": 22,
   "metadata": {},
   "outputs": [],
   "source": [
    "class KNeighborsClassifier:\n",
    "    def __init__(self,k):\n",
    "        \"\"\"初始化分类器\"\"\"\n",
    "        assert k>=1,\"k must be valid\"\n",
    "        self._k = k\n",
    "        self._trainX = None\n",
    "        self._trainY = None\n",
    "        \n",
    "    def __repr__(self):\n",
    "        return \"Knn=%s\"%(self._k)\n",
    "        \n",
    "    def fit(self,trainX,trainY):\n",
    "        \"\"\"训练数据集\"\"\"\n",
    "        self._trainX = trainX\n",
    "        self._trainY = trainY\n",
    "        return self\n",
    "    \n",
    "    def _predict(self,x):\n",
    "        \"\"\"给单个预测数据x,返回预测结果\"\"\"\n",
    "        distances = [np.sqrt(np.sum(np.power((train_x-x),2))) for train_x in self._trainX]\n",
    "        index = np.argsort(distances)[:self._k]\n",
    "        pred = [self._trainY[i] for i in index]\n",
    "        cls = Counter(pred).most_common(1)\n",
    "        return cls[0][0]\n",
    "    \n",
    "    def predict(self,testX):\n",
    "        \"\"\"给定待测数据集，返回结果向量\"\"\"\n",
    "        assert self._trainX is not None and self._trainY is not None,\"must fit before predict\"\n",
    "        predictY = [self._predict(i) for i in testX]\n",
    "        return np.array(predictY)"
   ]
  },
  {
   "cell_type": "code",
   "execution_count": 23,
   "metadata": {},
   "outputs": [
    {
     "name": "stdout",
     "output_type": "stream",
     "text": [
      "[0]\n"
     ]
    }
   ],
   "source": [
    "Knn = KNeighborsClassifier(3)\n",
    "Knn.fit(train_data,train_label)\n",
    "print(Knn.predict(test_data))"
   ]
  },
  {
   "cell_type": "markdown",
   "metadata": {},
   "source": [
    "### train_test_split"
   ]
  },
  {
   "cell_type": "code",
   "execution_count": 1,
   "metadata": {},
   "outputs": [],
   "source": [
    "from sklearn import datasets\n",
    "import numpy as np\n",
    "import matplotlib.pyplot as plt"
   ]
  },
  {
   "cell_type": "code",
   "execution_count": 2,
   "metadata": {},
   "outputs": [
    {
     "name": "stdout",
     "output_type": "stream",
     "text": [
      "(150, 4)\n",
      "(150,)\n"
     ]
    }
   ],
   "source": [
    "iris = datasets.load_iris()\n",
    "x = iris.data\n",
    "y = iris.target\n",
    "print(x.shape)\n",
    "print(y.shape)"
   ]
  },
  {
   "cell_type": "code",
   "execution_count": 28,
   "metadata": {},
   "outputs": [],
   "source": [
    "# 方法一\n",
    "np.random.seed(5)\n",
    "x = np.random.permutation(x)\n",
    "np.random.seed(5)\n",
    "y = np.random.permutation(y)"
   ]
  },
  {
   "cell_type": "code",
   "execution_count": 52,
   "metadata": {
    "scrolled": false
   },
   "outputs": [],
   "source": [
    "# 方法二(更优，推荐)\n",
    "index = np.random.permutation(150) \n",
    "train = index[:120]\n",
    "test = index[120:]\n",
    "# print(len(index))\n",
    "# print(type(x))\n",
    "x_train = x[train]\n",
    "x_test = x[test]\n",
    "y_train = y[train]\n",
    "y_test = y[test]"
   ]
  },
  {
   "cell_type": "code",
   "execution_count": 91,
   "metadata": {},
   "outputs": [],
   "source": [
    "def train_test_split(x,y,test_ratio=0.2,seed=None):\n",
    "    assert x.shape[0]==y.shape[0],\"the size of x must be equal to the size of y\"\n",
    "    if seed:\n",
    "        np.random.seed(seed)\n",
    "    length = len(x)   \n",
    "    index = np.random.permutation(length)\n",
    "    test_size = int(length*test_ratio)\n",
    "    test_index = index[:test_size]\n",
    "    train_index = index[test_size:]\n",
    "    \n",
    "    trainX = x[train_index]\n",
    "    trainY = y[train_index]\n",
    "    testX = x[test_index]\n",
    "    testY = y[test_index]\n",
    "    return trainX,testX,trainY,testY"
   ]
  },
  {
   "cell_type": "code",
   "execution_count": 62,
   "metadata": {},
   "outputs": [],
   "source": [
    "trainX,trainY,testX,testY = train_test_split(x,y,test_ratio=0.2)"
   ]
  },
  {
   "cell_type": "code",
   "execution_count": 64,
   "metadata": {},
   "outputs": [
    {
     "data": {
      "text/plain": [
       "(120, 4)"
      ]
     },
     "execution_count": 64,
     "metadata": {},
     "output_type": "execute_result"
    }
   ],
   "source": [
    "trainX.shape"
   ]
  },
  {
   "cell_type": "markdown",
   "metadata": {},
   "source": [
    "### 分类准确度"
   ]
  },
  {
   "cell_type": "code",
   "execution_count": 40,
   "metadata": {},
   "outputs": [],
   "source": [
    "import numpy as np\n",
    "import matplotlib.pyplot as plt\n",
    "from sklearn import datasets"
   ]
  },
  {
   "cell_type": "code",
   "execution_count": 41,
   "metadata": {},
   "outputs": [],
   "source": [
    "digits = datasets.load_digits()\n",
    "x = digits.data\n",
    "y = digits.target"
   ]
  },
  {
   "cell_type": "code",
   "execution_count": 75,
   "metadata": {},
   "outputs": [
    {
     "data": {
      "text/plain": [
       "<matplotlib.image.AxesImage at 0x176b6573c50>"
      ]
     },
     "execution_count": 75,
     "metadata": {},
     "output_type": "execute_result"
    },
    {
     "data": {
      "image/png": "[encoded data removed]",
      "text/plain": [
       "<Figure size 432x288 with 6 Axes>"
      ]
     },
     "metadata": {},
     "output_type": "display_data"
    }
   ],
   "source": [
    "showImages = np.reshape(x,(-1,8,8))[:6]\n",
    "plt.subplot(3,3,1)\n",
    "plt.imshow(showImages[0])\n",
    "plt.subplot(3,3,2)\n",
    "plt.imshow(showImages[1])\n",
    "plt.subplot(3,3,3)\n",
    "plt.imshow(showImages[2])\n",
    "plt.subplot(3,3,4)\n",
    "plt.imshow(showImages[3])\n",
    "plt.subplot(3,3,5)\n",
    "plt.imshow(showImages[4])\n",
    "plt.subplot(3,3,6)\n",
    "plt.imshow(showImages[5])"
   ]
  },
  {
   "cell_type": "code",
   "execution_count": 46,
   "metadata": {
    "scrolled": true
   },
   "outputs": [
    {
     "name": "stdout",
     "output_type": "stream",
     "text": [
      "0.9888888888888889\n",
      "0.9888888888888889\n"
     ]
    }
   ],
   "source": [
    "from sklearn.model_selection import train_test_split\n",
    "from sklearn.neighbors import KNeighborsClassifier\n",
    "from sklearn.metrics import accuracy_score\n",
    "\n",
    "\n",
    "trainX,testX,trainY,testY = train_test_split(x,y,test_size=0.2)\n",
    "knn = KNeighborsClassifier(5)\n",
    "knn.fit(trainX,trainY)\n",
    "test_y = knn.predict(testX)\n",
    "# print(test_y)\n",
    "# print(testY)\n",
    "print(accuracy_score(test_y,testY))\n",
    "# knn.score(test_y,testY)\n",
    "print(np.sum(test_y==testY)/len(testY))"
   ]
  },
  {
   "cell_type": "markdown",
   "metadata": {},
   "source": [
    "## 超参数和模型参数"
   ]
  },
  {
   "cell_type": "markdown",
   "metadata": {},
   "source": [
    "超参数：在算法运行前需要决定的参数<br>\n",
    "模型参数：算法过程中学习的参数<hr>\n",
    "\n",
    "Knn算法没有模型参数<br>\n",
    "Knn中的k是典型的超参数"
   ]
  },
  {
   "cell_type": "markdown",
   "metadata": {},
   "source": [
    "### 寻找好的超参数："
   ]
  },
  {
   "cell_type": "markdown",
   "metadata": {},
   "source": [
    "1. 领域知识\n",
    "2. 经验数值\n",
    "3. 实验搜索"
   ]
  },
  {
   "cell_type": "markdown",
   "metadata": {},
   "source": [
    "### 寻找最好的K"
   ]
  },
  {
   "cell_type": "code",
   "execution_count": 17,
   "metadata": {},
   "outputs": [
    {
     "name": "stdout",
     "output_type": "stream",
     "text": [
      "method= distance\n",
      "best_score= 0.9972222222222222\n",
      "best_k= 3\n",
      "method= uniform\n",
      "best_score= 0.9972222222222222\n",
      "best_k= 3\n"
     ]
    }
   ],
   "source": [
    "best_score = 0.0\n",
    "best_k = -1\n",
    "for method in [\"distance\",\"uniform\"]:\n",
    "    for k in range(1,11):\n",
    "        trainX,testX,trainY,testY = train_test_split(x,y,test_size=0.2)\n",
    "        knn = KNeighborsClassifier(k,weights=method)\n",
    "        knn.fit(trainX,trainY)\n",
    "        test_y = knn.predict(testX)\n",
    "        score = np.sum(test_y==testY)/len(testY)\n",
    "    #     print(score)\n",
    "        if best_score<score:\n",
    "            best_score = score\n",
    "            best_k = k\n",
    "    print(\"method=\",method)        \n",
    "    print(\"best_score=\",best_score)\n",
    "    print(\"best_k=\",best_k)"
   ]
  },
  {
   "cell_type": "markdown",
   "metadata": {},
   "source": [
    "### 明可夫斯基距离"
   ]
  },
  {
   "cell_type": "markdown",
   "metadata": {},
   "source": [
    "![明可夫斯基距离](http://p9tybni1b.bkt.clouddn.com/%E6%98%8E%E5%8F%AF%E5%A4%AB%E6%96%AF%E5%9F%BA%E8%B7%9D%E7%A6%BB.png)"
   ]
  },
  {
   "cell_type": "markdown",
   "metadata": {},
   "source": [
    "当p的值为1时，则是曼哈顿距离，当p为2时则是欧拉距离"
   ]
  },
  {
   "cell_type": "markdown",
   "metadata": {},
   "source": [
    "### 搜索明可夫斯基距离相应的p"
   ]
  },
  {
   "cell_type": "code",
   "execution_count": 19,
   "metadata": {},
   "outputs": [
    {
     "name": "stdout",
     "output_type": "stream",
     "text": [
      "p= 1\n",
      "best_score= 0.9972222222222222\n",
      "best_k= 8\n",
      "========================================================================================================================\n",
      "p= 2\n",
      "best_score= 0.9972222222222222\n",
      "best_k= 8\n",
      "========================================================================================================================\n",
      "p= 3\n",
      "best_score= 0.9972222222222222\n",
      "best_k= 8\n",
      "========================================================================================================================\n",
      "p= 4\n",
      "best_score= 0.9972222222222222\n",
      "best_k= 8\n",
      "========================================================================================================================\n",
      "p= 5\n",
      "best_score= 0.9972222222222222\n",
      "best_k= 8\n",
      "========================================================================================================================\n"
     ]
    }
   ],
   "source": [
    "best_score = 0.0\n",
    "best_k = -1\n",
    "for p in range(1,6):\n",
    "    for k in range(1,11):\n",
    "        trainX,testX,trainY,testY = train_test_split(x,y,test_size=0.2)\n",
    "        knn = KNeighborsClassifier(k,weights=\"distance\",p=p)\n",
    "        knn.fit(trainX,trainY)\n",
    "        test_y = knn.predict(testX)\n",
    "        score = np.sum(test_y==testY)/len(testY)\n",
    "    #     print(score)\n",
    "        if best_score<score:\n",
    "            best_score = score\n",
    "            best_k = k\n",
    "    print(\"p=\",p)        \n",
    "    print(\"best_score=\",best_score)\n",
    "    print(\"best_k=\",best_k)\n",
    "    print(\"============\"*10)"
   ]
  },
  {
   "cell_type": "markdown",
   "metadata": {},
   "source": [
    "### 网格搜索Grid Search 交叉验证"
   ]
  },
  {
   "cell_type": "code",
   "execution_count": 23,
   "metadata": {},
   "outputs": [],
   "source": [
    "from sklearn.neighbors import KNeighborsClassifier\n",
    "\n",
    "param_grid = [\n",
    "    {\n",
    "        'weights':['uniform'],\n",
    "        'n_neighbors':[i for i in range(1,11)]\n",
    "    },\n",
    "    {\n",
    "        'weights':['distance'],\n",
    "        'n_neighbors':[i for i in range(1,11)],\n",
    "        'p':[i for i in range(1,6)]\n",
    "    }\n",
    "]"
   ]
  },
  {
   "cell_type": "code",
   "execution_count": 24,
   "metadata": {},
   "outputs": [],
   "source": [
    "knn_clf = KNeighborsClassifier()"
   ]
  },
  {
   "cell_type": "code",
   "execution_count": 34,
   "metadata": {},
   "outputs": [],
   "source": [
    "from sklearn.model_selection import GridSearchCV\n",
    "\n",
    "grid_search = GridSearchCV(knn_clf,param_grid,n_jobs=-1)"
   ]
  },
  {
   "cell_type": "code",
   "execution_count": 35,
   "metadata": {},
   "outputs": [
    {
     "data": {
      "text/plain": [
       "GridSearchCV(cv=None, error_score='raise',\n",
       "       estimator=KNeighborsClassifier(algorithm='auto', leaf_size=30, metric='minkowski',\n",
       "           metric_params=None, n_jobs=1, n_neighbors=3, p=3,\n",
       "           weights='distance'),\n",
       "       fit_params=None, iid=True, n_jobs=-1,\n",
       "       param_grid=[{'weights': ['uniform'], 'n_neighbors': [1, 2, 3, 4, 5, 6, 7, 8, 9, 10]}, {'weights': ['distance'], 'n_neighbors': [1, 2, 3, 4, 5, 6, 7, 8, 9, 10], 'p': [1, 2, 3, 4, 5]}],\n",
       "       pre_dispatch='2*n_jobs', refit=True, return_train_score='warn',\n",
       "       scoring=None, verbose=0)"
      ]
     },
     "execution_count": 35,
     "metadata": {},
     "output_type": "execute_result"
    }
   ],
   "source": [
    "from sklearn import datasets\n",
    "\n",
    "digits = datasets.load_digits()\n",
    "x = digits.data\n",
    "y = digits.target\n",
    "trainX,testX,trainY,testY = train_test_split(x,y,test_size=0.2)\n",
    "\n",
    "grid_search.fit(trainX,trainY)"
   ]
  },
  {
   "cell_type": "code",
   "execution_count": 28,
   "metadata": {},
   "outputs": [
    {
     "data": {
      "text/plain": [
       "0.9909533750869868"
      ]
     },
     "execution_count": 28,
     "metadata": {},
     "output_type": "execute_result"
    }
   ],
   "source": [
    "grid_search.best_score_"
   ]
  },
  {
   "cell_type": "code",
   "execution_count": 29,
   "metadata": {},
   "outputs": [
    {
     "data": {
      "text/plain": [
       "{'n_neighbors': 3, 'p': 3, 'weights': 'distance'}"
      ]
     },
     "execution_count": 29,
     "metadata": {},
     "output_type": "execute_result"
    }
   ],
   "source": [
    "grid_search.best_params_"
   ]
  },
  {
   "cell_type": "code",
   "execution_count": 32,
   "metadata": {
    "scrolled": true
   },
   "outputs": [
    {
     "data": {
      "text/plain": [
       "0.9777777777777777"
      ]
     },
     "execution_count": 32,
     "metadata": {},
     "output_type": "execute_result"
    }
   ],
   "source": [
    "knn_clf = grid_search.best_estimator_\n",
    "knn_clf.score(testX,testY)"
   ]
  },
  {
   "cell_type": "markdown",
   "metadata": {},
   "source": [
    "## 数据归一化"
   ]
  },
  {
   "cell_type": "markdown",
   "metadata": {},
   "source": [
    "将所有的数据映射到同一尺度中<br>\n"
   ]
  },
  {
   "cell_type": "markdown",
   "metadata": {},
   "source": [
    "### 最值归一化：把所有数据映射到0-1之间，适用于有明显分布边界的情况"
   ]
  },
  {
   "cell_type": "code",
   "execution_count": 58,
   "metadata": {},
   "outputs": [
    {
     "data": {
      "text/plain": [
       "array([0.21428571, 0.2244898 , 0.46938776, 0.17346939, 0.30612245,\n",
       "       0.41836735, 0.98979592, 0.53061224, 0.30612245, 0.62244898,\n",
       "       0.82653061, 0.67346939, 0.1122449 , 0.05102041, 0.2244898 ,\n",
       "       0.16326531, 0.29591837, 0.10204082, 0.05102041, 0.70408163,\n",
       "       0.64285714, 0.44897959, 0.23469388, 0.90816327, 0.68367347,\n",
       "       0.90816327, 0.47959184, 0.43877551, 0.01020408, 0.53061224,\n",
       "       0.33673469, 0.96938776, 0.53061224, 0.21428571, 0.31632653,\n",
       "       0.94897959, 0.18367347, 0.36734694, 0.15306122, 0.17346939,\n",
       "       0.6122449 , 0.17346939, 0.44897959, 0.09183673, 0.59183673,\n",
       "       1.        , 0.96938776, 0.65306122, 0.40816327, 0.37755102,\n",
       "       0.73469388, 0.81632653, 0.81632653, 0.54081633, 0.64285714,\n",
       "       0.13265306, 0.56122449, 0.6122449 , 0.25510204, 0.5       ,\n",
       "       0.83673469, 0.53061224, 0.17346939, 0.89795918, 0.07142857,\n",
       "       0.35714286, 0.59183673, 0.84693878, 0.58163265, 0.74489796,\n",
       "       0.10204082, 0.97959184, 0.09183673, 0.09183673, 0.47959184,\n",
       "       0.3877551 , 0.70408163, 0.80612245, 0.37755102, 0.96938776,\n",
       "       0.13265306, 0.18367347, 0.66326531, 0.54081633, 0.36734694,\n",
       "       0.46938776, 0.07142857, 0.68367347, 0.66326531, 0.34693878,\n",
       "       0.19387755, 0.91836735, 0.60204082, 0.12244898, 0.96938776,\n",
       "       0.10204082, 0.        , 0.58163265, 0.55102041, 0.67346939])"
      ]
     },
     "execution_count": 58,
     "metadata": {},
     "output_type": "execute_result"
    }
   ],
   "source": [
    "import numpy as np\n",
    "\n",
    "x = np.random.randint(0,100,size=100)\n",
    "s = np.divide((x-np.min(x)),np.subtract(np.max(x),np.min(x)))\n",
    "s"
   ]
  },
  {
   "cell_type": "markdown",
   "metadata": {},
   "source": [
    "### 均值方差归一化：把所有数据归一到均值为0方差为1的分布中，适用于数据没有明显分布边界，可能存在极端数据值"
   ]
  },
  {
   "cell_type": "code",
   "execution_count": 65,
   "metadata": {},
   "outputs": [
    {
     "name": "stdout",
     "output_type": "stream",
     "text": [
      "[-1.00264027 -1.62699501  0.39297622  0.72351697  0.13588897  1.60495896\n",
      "  1.38459847 -0.56191927  1.09078447  1.23769147  1.75186596  1.71513921\n",
      "  0.87042397 -1.55354152  1.23769147  0.46642972 -0.48846577  0.57660997\n",
      " -0.01101802 -0.41501227 -1.07609377  0.09916222 -0.78227977 -0.78227977\n",
      " -0.15792502  1.38459847  1.27441822 -0.41501227  0.42970297 -0.78227977\n",
      " -1.73717526 -1.48008802 -0.37828552 -0.70882627 -0.08447152  0.50315647\n",
      "  1.78859271  0.87042397 -0.34155877 -1.33318102 -0.78227977  0.65006347\n",
      "  1.42132522 -0.34155877  1.56823222 -1.03936702 -0.12119827 -0.41501227\n",
      " -0.96591352 -0.85573327 -0.67209952 -0.01101802 -1.33318102 -0.41501227\n",
      " -0.26810527  1.20096472  0.06243547  0.57660997  0.87042397 -1.11282052\n",
      " -0.52519252  1.09078447  1.16423797  1.82531946 -0.19465177  0.06243547\n",
      " -0.15792502  0.17261572 -0.89246002  1.16423797  1.86204621 -0.48846577\n",
      "  0.72351697 -0.56191927  0.83369722 -0.63537277 -0.15792502  0.53988322\n",
      " -0.67209952 -1.03936702  1.67841246  0.17261572 -1.14954727  0.72351697\n",
      " -0.85573327  0.42970297 -1.44336127 -1.73717526  0.24606922 -1.22300077\n",
      " -1.25972752  0.68679022  1.64168571 -0.96591352  1.82531946 -1.29645427\n",
      " -1.48008802 -0.37828552 -1.18627402 -0.37828552]\n",
      "方差为 1.0\n",
      "均值为 8.770761894538737e-17\n"
     ]
    }
   ],
   "source": [
    "import numpy as np\n",
    "\n",
    "x = np.random.randint(0,100,size=100)\n",
    "s = np.divide(np.subtract(x,np.mean(x)),np.std(x))\n",
    "print(s)\n",
    "print(\"方差为\",np.std(s))\n",
    "print(\"均值为\",np.mean(s))"
   ]
  },
  {
   "cell_type": "markdown",
   "metadata": {},
   "source": [
    "### 对测试数据如何归一化"
   ]
  },
  {
   "cell_type": "markdown",
   "metadata": {},
   "source": [
    "![测试数据归一化](http://p9tybni1b.bkt.clouddn.com/%E6%B5%8B%E8%AF%95%E6%95%B0%E6%8D%AE%E5%BD%92%E4%B8%80%E5%8C%96.png)"
   ]
  },
  {
   "cell_type": "code",
   "execution_count": null,
   "metadata": {},
   "outputs": [],
   "source": []
  }
 ],
 "metadata": {
  "kernelspec": {
   "display_name": "Python 3",
   "language": "python",
   "name": "python3"
  },
  "language_info": {
   "codemirror_mode": {
    "name": "ipython",
    "version": 3
   },
   "file_extension": ".py",
   "mimetype": "text/x-python",
   "name": "python",
   "nbconvert_exporter": "python",
   "pygments_lexer": "ipython3",
   "version": "3.6.4"
  }
 },
 "nbformat": 4,
 "nbformat_minor": 2
}
