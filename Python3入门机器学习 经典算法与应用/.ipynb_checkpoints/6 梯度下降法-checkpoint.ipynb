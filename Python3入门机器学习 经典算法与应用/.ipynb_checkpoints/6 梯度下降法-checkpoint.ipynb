{
 "cells": [
  {
   "cell_type": "markdown",
   "metadata": {},
   "source": [
    "## 梯度下降法\n",
    "### 在使用梯度下降法前，最好进行数据归一化"
   ]
  },
  {
   "cell_type": "markdown",
   "metadata": {},
   "source": [
    "1. 不是一个机器学习算法\n",
    "2. 是一种基于搜索的最优化方法\n",
    "3. 作用：最小化损失函数\n",
    "4. 梯度上升法，最大化一个效用函数"
   ]
  },
  {
   "cell_type": "markdown",
   "metadata": {},
   "source": [
    "1. η称为学习率\n",
    "2. η的值影响获得最优解的速度\n",
    "3. η取值不合适甚至得不到最优解\n",
    "4. η是梯度下降法的一个超参数"
   ]
  },
  {
   "cell_type": "markdown",
   "metadata": {},
   "source": [
    "##  优势"
   ]
  },
  {
   "cell_type": "markdown",
   "metadata": {},
   "source": [
    "特征越多的情况下，梯度下降相比于正规方程所耗时间更短，优势就体现出来了。"
   ]
  },
  {
   "cell_type": "markdown",
   "metadata": {},
   "source": [
    "### 问题：存在多个极值点的情况？"
   ]
  },
  {
   "cell_type": "markdown",
   "metadata": {},
   "source": [
    "1. 多次运行，随机化初始点\n",
    "2. 梯度下降法的初始点也是一个超参数"
   ]
  },
  {
   "cell_type": "code",
   "execution_count": 51,
   "metadata": {},
   "outputs": [],
   "source": [
    "import tensorflow as tf\n",
    "import numpy as np\n",
    "import matplotlib.pyplot as plt\n",
    "\n",
    "from sklearn import datasets\n",
    "from sklearn.model_selection import train_test_split\n",
    "from sklearn.linear_model import LinearRegression\n",
    "from sklearn.preprocessing import StandardScaler\n",
    "from sklearn.metrics import r2_score"
   ]
  },
  {
   "cell_type": "code",
   "execution_count": 52,
   "metadata": {},
   "outputs": [
    {
     "name": "stdout",
     "output_type": "stream",
     "text": [
      "(379, 13)\n",
      "(379, 1)\n"
     ]
    }
   ],
   "source": [
    "# 加载数据\n",
    "boston = datasets.load_boston()\n",
    "x = boston.data\n",
    "y = boston.target\n",
    "\n",
    "trainX,testX,trainY,testY = train_test_split(x,y)\n",
    "trainY = np.reshape(trainY,(-1,1))\n",
    "# 数据归一化\n",
    "standardScaler = StandardScaler()\n",
    "standardScaler.fit(trainX)\n",
    "trainX = standardScaler.transform(trainX)\n",
    "testX = standardScaler.transform(testX)\n",
    "print(trainX.shape)\n",
    "print(trainY.shape)"
   ]
  },
  {
   "cell_type": "code",
   "execution_count": 92,
   "metadata": {},
   "outputs": [],
   "source": [
    "# tensorflow\n",
    "data_input = tf.placeholder(dtype=tf.float32,shape=(None,13))\n",
    "label_input = tf.placeholder(dtype=tf.float32,shape=(None,1))\n",
    "\n",
    "a = tf.Variable(tf.ones(shape=(13,1)))\n",
    "b = tf.Variable(tf.constant(0,dtype=tf.float32))\n",
    "\n",
    "# y_predict = tf.add(tf.matmul(data_input,a),b)\n",
    "y_predict = tf.matmul(data_input,a)+b\n",
    "\n",
    "loss = tf.reduce_mean(tf.pow((label_input-y_predict),2),axis=0)\n",
    "train = tf.train.GradientDescentOptimizer(0.1).minimize(loss)"
   ]
  },
  {
   "cell_type": "code",
   "execution_count": 93,
   "metadata": {},
   "outputs": [
    {
     "name": "stdout",
     "output_type": "stream",
     "text": [
      "准确度 0.7460029905648369\n",
      "[[-1.0221657 ]\n",
      " [ 1.013964  ]\n",
      " [ 0.24040328]\n",
      " [ 0.5095222 ]\n",
      " [-2.2010713 ]\n",
      " [ 2.7348342 ]\n",
      " [ 0.08869199]\n",
      " [-3.2172403 ]\n",
      " [ 2.8770893 ]\n",
      " [-2.1376438 ]\n",
      " [-2.129235  ]\n",
      " [ 0.98947024]\n",
      " [-3.875676  ]]\n",
      "22.44195\n",
      "sklearn如下\n",
      "============================================================\n",
      "[[-1.0221662   1.01396454  0.24040677  0.50952169 -2.20107334  2.73483275\n",
      "   0.08869413 -3.21723902  2.87709725 -2.13765172 -2.12923657  0.98947021\n",
      "  -3.87567738]]\n",
      "[22.44195251]\n",
      "准确度 0.7460030008947997\n"
     ]
    }
   ],
   "source": [
    "# 训练\n",
    "with tf.Session() as sess:\n",
    "    sess.run(tf.global_variables_initializer())\n",
    "    for i in range(100000):\n",
    "        sess.run(train,feed_dict={data_input:trainX,label_input:trainY})\n",
    "\n",
    "    y_predict_value = sess.run(y_predict,feed_dict={data_input:trainX})\n",
    "    print(\"准确度\",r2_score(trainY,y_predict_value))\n",
    "    print(sess.run(a))\n",
    "    print(sess.run(b))\n",
    "print(\"sklearn如下\")\n",
    "print(\"======\"*10)\n",
    "lreg = LinearRegression()\n",
    "lreg.fit(trainX,trainY)\n",
    "print(lreg.coef_)\n",
    "print(lreg.intercept_)\n",
    "print(\"准确度\",lreg.score(trainX,trainY))"
   ]
  },
  {
   "cell_type": "markdown",
   "metadata": {},
   "source": [
    "## 梯度下降的实现过程（精彩）"
   ]
  },
  {
   "cell_type": "code",
   "execution_count": 50,
   "metadata": {},
   "outputs": [
    {
     "data": {
      "text/plain": [
       "[<matplotlib.lines.Line2D at 0x22458aa5ac8>]"
      ]
     },
     "execution_count": 50,
     "metadata": {},
     "output_type": "execute_result"
    },
    {
     "data": {
      "image/png": "[encoded data removed]",
      "text/plain": [
       "<Figure size 432x288 with 1 Axes>"
      ]
     },
     "metadata": {},
     "output_type": "display_data"
    }
   ],
   "source": [
    "x = np.linspace(-1,6,140)\n",
    "y = np.power((x-2.5),2)-1\n",
    "plt.plot(x,y)"
   ]
  },
  {
   "cell_type": "code",
   "execution_count": 72,
   "metadata": {},
   "outputs": [],
   "source": [
    "def dJ(theta):\n",
    "    return 2*(theta-2.5)\n",
    "\n",
    "def J(theta):\n",
    "    try:\n",
    "        return (theta-2.5)**2-1\n",
    "    except:\n",
    "        return float('inf')"
   ]
  },
  {
   "cell_type": "code",
   "execution_count": 74,
   "metadata": {},
   "outputs": [
    {
     "name": "stdout",
     "output_type": "stream",
     "text": [
      "2.499891109642585\n",
      "-0.99999998814289\n"
     ]
    }
   ],
   "source": [
    "theta = 0.0\n",
    "eta = 0.1\n",
    "epsilon = 1e-8\n",
    "\n",
    "while True:\n",
    "    gradient =  dJ(theta)\n",
    "    last_theta = theta\n",
    "    theta = theta - eta * gradient\n",
    "    \n",
    "    if (abs(J(theta)-J(last_theta))<epsilon):\n",
    "        break\n",
    "    \n",
    "print(theta)\n",
    "print(J(theta))"
   ]
  },
  {
   "cell_type": "code",
   "execution_count": 59,
   "metadata": {
    "scrolled": true
   },
   "outputs": [
    {
     "data": {
      "image/png": "[encoded data removed]",
      "text/plain": [
       "<Figure size 432x288 with 1 Axes>"
      ]
     },
     "metadata": {},
     "output_type": "display_data"
    },
    {
     "name": "stdout",
     "output_type": "stream",
     "text": [
      "走的步数：46\n"
     ]
    }
   ],
   "source": [
    "theta = 0.0\n",
    "eta = 0.1\n",
    "epsilon = 1e-8\n",
    "history = [theta]\n",
    "\n",
    "while True:\n",
    "    gradient =  dJ(theta)\n",
    "    last_theta = theta\n",
    "    theta = theta - eta * gradient\n",
    "    history.append(theta)\n",
    "    if (abs(J(theta)-J(last_theta))<epsilon):\n",
    "        break\n",
    "plt.plot(x,y)\n",
    "plt.plot(np.array(history),J(np.array(history)),color='r',marker='+')\n",
    "plt.show()\n",
    "print(\"走的步数：%s\"%(len(history)))"
   ]
  },
  {
   "cell_type": "code",
   "execution_count": 60,
   "metadata": {},
   "outputs": [
    {
     "data": {
      "image/png": "[encoded data removed]",
      "text/plain": [
       "<Figure size 432x288 with 1 Axes>"
      ]
     },
     "metadata": {},
     "output_type": "display_data"
    },
    {
     "name": "stdout",
     "output_type": "stream",
     "text": [
      "走的步数：424\n"
     ]
    }
   ],
   "source": [
    "theta = 0.0\n",
    "eta = 0.01\n",
    "epsilon = 1e-8\n",
    "history = [theta]\n",
    "\n",
    "while True:\n",
    "    gradient =  dJ(theta)\n",
    "    last_theta = theta\n",
    "    theta = theta - eta * gradient\n",
    "    history.append(theta)\n",
    "    if (abs(J(theta)-J(last_theta))<epsilon):\n",
    "        break\n",
    "plt.plot(x,y)\n",
    "plt.plot(np.array(history),J(np.array(history)),color='r',marker='+')\n",
    "plt.show()\n",
    "print(\"走的步数：%s\"%(len(history)))"
   ]
  },
  {
   "cell_type": "code",
   "execution_count": 61,
   "metadata": {},
   "outputs": [
    {
     "data": {
      "image/png": "[encoded data removed]",
      "text/plain": [
       "<Figure size 432x288 with 1 Axes>"
      ]
     },
     "metadata": {},
     "output_type": "display_data"
    },
    {
     "name": "stdout",
     "output_type": "stream",
     "text": [
      "走的步数：22\n"
     ]
    }
   ],
   "source": [
    "theta = 0.0\n",
    "eta = 0.8\n",
    "epsilon = 1e-8\n",
    "history = [theta]\n",
    "\n",
    "while True:\n",
    "    gradient =  dJ(theta)\n",
    "    last_theta = theta\n",
    "    theta = theta - eta * gradient\n",
    "    history.append(theta)\n",
    "    if (abs(J(theta)-J(last_theta))<epsilon):\n",
    "        break\n",
    "plt.plot(x,y)\n",
    "plt.plot(np.array(history),J(np.array(history)),color='r',marker='+')\n",
    "plt.show()\n",
    "print(\"走的步数：%s\"%(len(history)))"
   ]
  },
  {
   "cell_type": "code",
   "execution_count": 85,
   "metadata": {},
   "outputs": [
    {
     "data": {
      "image/png": "[encoded data removed]",
      "text/plain": [
       "<Figure size 432x288 with 1 Axes>"
      ]
     },
     "metadata": {},
     "output_type": "display_data"
    },
    {
     "name": "stdout",
     "output_type": "stream",
     "text": [
      "走的步数：4\n"
     ]
    }
   ],
   "source": [
    "theta = 0.0\n",
    "eta = 1.1\n",
    "epsilon = 1e-8\n",
    "history = [theta]\n",
    "iters = 0\n",
    "\n",
    "while True:\n",
    "    iters += 1\n",
    "    gradient =  dJ(theta)\n",
    "    last_theta = theta\n",
    "    theta = theta - eta * gradient\n",
    "    history.append(theta)\n",
    "    if (abs(J(theta)-J(last_theta))<epsilon or iters>=3):\n",
    "        break\n",
    "plt.plot(x,y)\n",
    "plt.plot(np.array(history),J(np.array(history)),color='r',marker='+')\n",
    "plt.show()\n",
    "print(\"走的步数：%s\"%(len(history)))"
   ]
  },
  {
   "cell_type": "markdown",
   "metadata": {},
   "source": [
    "## 在线性回归的模型中使用梯度下降"
   ]
  },
  {
   "cell_type": "code",
   "execution_count": 4,
   "metadata": {},
   "outputs": [],
   "source": [
    "import numpy as np\n",
    "import matplotlib.pyplot as plt"
   ]
  },
  {
   "cell_type": "code",
   "execution_count": 9,
   "metadata": {},
   "outputs": [
    {
     "data": {
      "text/plain": [
       "(100,)"
      ]
     },
     "execution_count": 9,
     "metadata": {},
     "output_type": "execute_result"
    }
   ],
   "source": [
    "np.random.seed(5)\n",
    "x = 2*np.random.random(size=100)\n",
    "y = x*3+4+np.random.normal(size=100)\n",
    "x = x.reshape((-1,1))\n",
    "y.shape"
   ]
  },
  {
   "cell_type": "code",
   "execution_count": 6,
   "metadata": {},
   "outputs": [
    {
     "data": {
      "image/png": "[encoded data removed]",
      "text/plain": [
       "<Figure size 432x288 with 1 Axes>"
      ]
     },
     "metadata": {},
     "output_type": "display_data"
    }
   ],
   "source": [
    "plt.scatter(x,y)\n",
    "plt.show()"
   ]
  },
  {
   "cell_type": "code",
   "execution_count": 1,
   "metadata": {},
   "outputs": [],
   "source": [
    "def J(theta,x,y):\n",
    "    try:\n",
    "        return np.sum(np.power((y - np.dot(x,theta)),2))/x.shape[0]\n",
    "    except:\n",
    "        return float('inf')"
   ]
  },
  {
   "cell_type": "code",
   "execution_count": 2,
   "metadata": {},
   "outputs": [],
   "source": [
    "def dJ(theta,x,y):\n",
    "    length = theta.shape[0]\n",
    "    res = np.zeros(length)\n",
    "    res[0] = np.sum(x.dot(theta)-y)\n",
    "    for i in range(1,length):\n",
    "        res[i] = np.sum((x.dot(theta)-y).dot(x[:,i]))\n",
    "    return res*2/x.shape[0]"
   ]
  },
  {
   "cell_type": "code",
   "execution_count": 7,
   "metadata": {},
   "outputs": [
    {
     "data": {
      "text/plain": [
       "(2,)"
      ]
     },
     "execution_count": 7,
     "metadata": {},
     "output_type": "execute_result"
    }
   ],
   "source": [
    "eta = 0.01\n",
    "epsilon = 1e-8\n",
    "iters = 0\n",
    "x = np.hstack((np.ones((x.shape[0],1)),x))\n",
    "theta = np.zeros([x.shape[1]])\n",
    "x.shape\n",
    "theta.shape"
   ]
  },
  {
   "cell_type": "code",
   "execution_count": 8,
   "metadata": {},
   "outputs": [
    {
     "name": "stdout",
     "output_type": "stream",
     "text": [
      "[4.09099392 2.94805425]\n"
     ]
    }
   ],
   "source": [
    "while True:\n",
    "    iters += 1\n",
    "    gradient =  dJ(theta,x,y)\n",
    "    last_theta = theta\n",
    "    theta = theta - eta * gradient\n",
    "    \n",
    "    if (abs(J(theta,x,y)-J(last_theta,x,y))<epsilon or iters>=10000):\n",
    "        break\n",
    "\n",
    "print(theta)"
   ]
  },
  {
   "cell_type": "markdown",
   "metadata": {},
   "source": [
    "### 自己实现梯度下降多元线性回归"
   ]
  },
  {
   "cell_type": "code",
   "execution_count": 4,
   "metadata": {},
   "outputs": [],
   "source": [
    "class LinearRegressor:\n",
    "    def __init__(self):\n",
    "        self.coef_ = None # θ向量\n",
    "        self.intercept_ = None # 截距\n",
    "        self._theta = None\n",
    "        self._epsilon = 1e-8\n",
    "        \n",
    "    def J(self,theta,x,y):\n",
    "        try:\n",
    "            return np.sum(np.power((y - np.dot(x,theta)),2))/len(x)\n",
    "        except:\n",
    "            return float('inf')\n",
    "    \n",
    "    def dJ(self,theta,x,y):\n",
    "#         length = len(theta)\n",
    "#         res = np.zeros(length)\n",
    "#         res[0] = np.sum(x.dot(theta)-y)\n",
    "#         for i in range(1,length):\n",
    "#             res[i] = np.sum((x.dot(theta)-y).dot(x[:,i]))\n",
    "#         return res*2/len(x)\n",
    "        return x.T.dot(x.dot(theta)-y)*2/len(y)\n",
    "\n",
    "    def fit(self,theta,x,y,eta):\n",
    "        x = np.hstack((np.ones((x.shape[0],1)),x))\n",
    "        iters = 0\n",
    "        while True:\n",
    "            iters += 1\n",
    "            gradient =  self.dJ(theta,x,y)\n",
    "            last_theta = theta\n",
    "            theta = theta - eta * gradient\n",
    "\n",
    "            if (abs(self.J(theta,x,y)-self.J(last_theta,x,y))<self._epsilon or iters>=10000):\n",
    "                break\n",
    "        self._theta = theta\n",
    "        self.intercept_ = self._theta[0] # 截距\n",
    "        self.coef_ = self._theta[1:] # 权重参数weights\n",
    "        return self\n",
    "    \n",
    "    def predict(self,testX):\n",
    "        x = np.hstack((np.ones((testX.shape[0],1)),testX))\n",
    "#         y = np.dot(x,self._theta.reshape(-1,1))\n",
    "        y = np.dot(x,self._theta)\n",
    "        return y\n",
    "    \n",
    "    def score(self,testX,testY):\n",
    "        return r2_score(testY,self.predict(testX))"
   ]
  },
  {
   "cell_type": "code",
   "execution_count": 19,
   "metadata": {},
   "outputs": [
    {
     "name": "stdout",
     "output_type": "stream",
     "text": [
      "[2.94805425]\n",
      "4.090993917959022\n"
     ]
    }
   ],
   "source": [
    "lr = LinearRegressor()\n",
    "theta = np.zeros([x.shape[1]+1])\n",
    "lr.fit(theta,x,y,0.01)\n",
    "print(lr.coef_)\n",
    "print(lr.intercept_)"
   ]
  },
  {
   "cell_type": "markdown",
   "metadata": {},
   "source": [
    "### 随机梯度下降法"
   ]
  },
  {
   "cell_type": "markdown",
   "metadata": {},
   "source": [
    "1. 跳出局部最优解\n",
    "2. 更快的运行速度"
   ]
  },
  {
   "cell_type": "markdown",
   "metadata": {},
   "source": [
    "![](http://p9tybni1b.bkt.clouddn.com/%E9%9A%8F%E6%9C%BA%E6%A2%AF%E5%BA%A6%E4%B8%8B%E9%99%8D.png)"
   ]
  },
  {
   "cell_type": "markdown",
   "metadata": {},
   "source": [
    "学习率随着循环次数而递减"
   ]
  },
  {
   "cell_type": "code",
   "execution_count": 46,
   "metadata": {},
   "outputs": [],
   "source": [
    "import numpy as np\n",
    "import matplotlib.pyplot as plt"
   ]
  },
  {
   "cell_type": "code",
   "execution_count": 47,
   "metadata": {},
   "outputs": [],
   "source": [
    "m = 100000\n",
    "\n",
    "x = np.random.normal(size=m)\n",
    "X = np.reshape(x,(-1,1))\n",
    "y = 4*x +3 +np.random.normal(0,3,size=m)"
   ]
  },
  {
   "cell_type": "code",
   "execution_count": null,
   "metadata": {},
   "outputs": [],
   "source": [
    "# 梯度下降法"
   ]
  },
  {
   "cell_type": "code",
   "execution_count": 48,
   "metadata": {},
   "outputs": [
    {
     "name": "stdout",
     "output_type": "stream",
     "text": [
      "Wall time: 3.48 s\n",
      "[3.9962329]\n",
      "3.0049769689340193\n"
     ]
    }
   ],
   "source": [
    "lr = LinearRegressor()\n",
    "theta = np.zeros([X.shape[1]+1])\n",
    "%time lr.fit(theta,X,y,0.01)\n",
    "print(lr.coef_)\n",
    "print(lr.intercept_)"
   ]
  },
  {
   "cell_type": "code",
   "execution_count": 52,
   "metadata": {},
   "outputs": [],
   "source": [
    "class StochasticGradientDescent(LinearRegressor):\n",
    "    def dJ(self,theta,x_i,y_i):\n",
    "        return x_i.T.dot(x_i.dot(theta)-y_i)*2\n",
    "    \n",
    "    def learn_rate(self,t):\n",
    "        t0 = 5\n",
    "        t1 = 50\n",
    "        return t0/(t+t1)\n",
    "    \n",
    "    def fit(self,theta,x,y,eta,n=5):\n",
    "\n",
    "        x = np.hstack((np.ones((x.shape[0],1)),x))\n",
    "        iters = 0\n",
    "        m = len(x)\n",
    "        for i in range(n):  \n",
    "            index = np.random.permutation(m)\n",
    "            x_new = x[index]\n",
    "            y_new = y[index]\n",
    "            for j in range(m):\n",
    "                rand_i = np.random.randint(len(x))\n",
    "                gradient =  self.dJ(theta,x_new[rand_i],y_new[rand_i])\n",
    "                theta = theta - self.learn_rate(eta) * gradient\n",
    "\n",
    "        self._theta = theta\n",
    "        self.intercept_ = self._theta[0] # 截距\n",
    "        self.coef_ = self._theta[1:] # 权重参数weights\n",
    "        return self"
   ]
  },
  {
   "cell_type": "code",
   "execution_count": 53,
   "metadata": {
    "scrolled": true
   },
   "outputs": [
    {
     "ename": "KeyboardInterrupt",
     "evalue": "",
     "output_type": "error",
     "traceback": [
      "\u001b[1;31m---------------------------------------------------------------------------\u001b[0m",
      "\u001b[1;31mKeyboardInterrupt\u001b[0m                         Traceback (most recent call last)",
      "\u001b[1;32m<timed eval>\u001b[0m in \u001b[0;36m<module>\u001b[1;34m()\u001b[0m\n",
      "\u001b[1;32m<ipython-input-52-268fe1b41967>\u001b[0m in \u001b[0;36mfit\u001b[1;34m(self, theta, x, y, eta, n)\u001b[0m\n\u001b[0;32m     19\u001b[0m             \u001b[1;32mfor\u001b[0m \u001b[0mj\u001b[0m \u001b[1;32min\u001b[0m \u001b[0mrange\u001b[0m\u001b[1;33m(\u001b[0m\u001b[0mm\u001b[0m\u001b[1;33m)\u001b[0m\u001b[1;33m:\u001b[0m\u001b[1;33m\u001b[0m\u001b[0m\n\u001b[0;32m     20\u001b[0m                 \u001b[0mrand_i\u001b[0m \u001b[1;33m=\u001b[0m \u001b[0mnp\u001b[0m\u001b[1;33m.\u001b[0m\u001b[0mrandom\u001b[0m\u001b[1;33m.\u001b[0m\u001b[0mrandint\u001b[0m\u001b[1;33m(\u001b[0m\u001b[0mlen\u001b[0m\u001b[1;33m(\u001b[0m\u001b[0mx\u001b[0m\u001b[1;33m)\u001b[0m\u001b[1;33m)\u001b[0m\u001b[1;33m\u001b[0m\u001b[0m\n\u001b[1;32m---> 21\u001b[1;33m                 \u001b[0mgradient\u001b[0m \u001b[1;33m=\u001b[0m  \u001b[0mself\u001b[0m\u001b[1;33m.\u001b[0m\u001b[0mdJ\u001b[0m\u001b[1;33m(\u001b[0m\u001b[0mtheta\u001b[0m\u001b[1;33m,\u001b[0m\u001b[0mx_new\u001b[0m\u001b[1;33m[\u001b[0m\u001b[0mrand_i\u001b[0m\u001b[1;33m]\u001b[0m\u001b[1;33m,\u001b[0m\u001b[0my_new\u001b[0m\u001b[1;33m[\u001b[0m\u001b[0mrand_i\u001b[0m\u001b[1;33m]\u001b[0m\u001b[1;33m)\u001b[0m\u001b[1;33m\u001b[0m\u001b[0m\n\u001b[0m\u001b[0;32m     22\u001b[0m                 \u001b[0mtheta\u001b[0m \u001b[1;33m=\u001b[0m \u001b[0mtheta\u001b[0m \u001b[1;33m-\u001b[0m \u001b[0mself\u001b[0m\u001b[1;33m.\u001b[0m\u001b[0mlearn_rate\u001b[0m\u001b[1;33m(\u001b[0m\u001b[0meta\u001b[0m\u001b[1;33m)\u001b[0m \u001b[1;33m*\u001b[0m \u001b[0mgradient\u001b[0m\u001b[1;33m\u001b[0m\u001b[0m\n\u001b[0;32m     23\u001b[0m \u001b[1;33m\u001b[0m\u001b[0m\n",
      "\u001b[1;32m<ipython-input-52-268fe1b41967>\u001b[0m in \u001b[0;36mdJ\u001b[1;34m(self, theta, x_i, y_i)\u001b[0m\n\u001b[0;32m      1\u001b[0m \u001b[1;32mclass\u001b[0m \u001b[0mStochasticGradientDescent\u001b[0m\u001b[1;33m(\u001b[0m\u001b[0mLinearRegressor\u001b[0m\u001b[1;33m)\u001b[0m\u001b[1;33m:\u001b[0m\u001b[1;33m\u001b[0m\u001b[0m\n\u001b[0;32m      2\u001b[0m     \u001b[1;32mdef\u001b[0m \u001b[0mdJ\u001b[0m\u001b[1;33m(\u001b[0m\u001b[0mself\u001b[0m\u001b[1;33m,\u001b[0m\u001b[0mtheta\u001b[0m\u001b[1;33m,\u001b[0m\u001b[0mx_i\u001b[0m\u001b[1;33m,\u001b[0m\u001b[0my_i\u001b[0m\u001b[1;33m)\u001b[0m\u001b[1;33m:\u001b[0m\u001b[1;33m\u001b[0m\u001b[0m\n\u001b[1;32m----> 3\u001b[1;33m         \u001b[1;32mreturn\u001b[0m \u001b[0mx_i\u001b[0m\u001b[1;33m.\u001b[0m\u001b[0mT\u001b[0m\u001b[1;33m.\u001b[0m\u001b[0mdot\u001b[0m\u001b[1;33m(\u001b[0m\u001b[0mx_i\u001b[0m\u001b[1;33m.\u001b[0m\u001b[0mdot\u001b[0m\u001b[1;33m(\u001b[0m\u001b[0mtheta\u001b[0m\u001b[1;33m)\u001b[0m\u001b[1;33m-\u001b[0m\u001b[0my_i\u001b[0m\u001b[1;33m)\u001b[0m\u001b[1;33m*\u001b[0m\u001b[1;36m2\u001b[0m\u001b[1;33m\u001b[0m\u001b[0m\n\u001b[0m\u001b[0;32m      4\u001b[0m \u001b[1;33m\u001b[0m\u001b[0m\n\u001b[0;32m      5\u001b[0m     \u001b[1;32mdef\u001b[0m \u001b[0mlearn_rate\u001b[0m\u001b[1;33m(\u001b[0m\u001b[0mself\u001b[0m\u001b[1;33m,\u001b[0m\u001b[0mt\u001b[0m\u001b[1;33m)\u001b[0m\u001b[1;33m:\u001b[0m\u001b[1;33m\u001b[0m\u001b[0m\n",
      "\u001b[1;31mKeyboardInterrupt\u001b[0m: "
     ]
    },
    {
     "name": "stdout",
     "output_type": "stream",
     "text": [
      "None\n",
      "None\n"
     ]
    }
   ],
   "source": [
    "sgd = StochasticGradientDescent()\n",
    "theta = np.zeros([X.shape[1]+1])\n",
    "%time sgd.fit(theta,X,y,0.01)\n",
    "print(sgd.coef_)\n",
    "print(sgd.intercept_)"
   ]
  },
  {
   "cell_type": "markdown",
   "metadata": {},
   "source": [
    "### scikit learn 的实现"
   ]
  },
  {
   "cell_type": "code",
   "execution_count": 6,
   "metadata": {},
   "outputs": [],
   "source": [
    "from sklearn.linear_model import SGDRegressor"
   ]
  },
  {
   "cell_type": "code",
   "execution_count": 20,
   "metadata": {},
   "outputs": [
    {
     "name": "stdout",
     "output_type": "stream",
     "text": [
      "[3.99482988]\n",
      "[3.01943775]\n"
     ]
    }
   ],
   "source": [
    "sgd = SGDRegressor(max_iter=5)\n",
    "sgd.fit(X,y)\n",
    "print(sgd.coef_)\n",
    "print(sgd.intercept_)"
   ]
  },
  {
   "cell_type": "markdown",
   "metadata": {},
   "source": [
    "## 梯度调试"
   ]
  },
  {
   "cell_type": "code",
   "execution_count": 59,
   "metadata": {},
   "outputs": [],
   "source": [
    "import numpy as np\n",
    "import matplotlib.pyplot as plt"
   ]
  },
  {
   "cell_type": "code",
   "execution_count": 62,
   "metadata": {},
   "outputs": [],
   "source": [
    "np.random.seed(seed=666)\n",
    "x = np.random.random(size=(1000,10))\n",
    "theta_true = np.arange(1,12,dtype=np.float32)\n",
    "x_b = np.hstack([np.ones((x.shape[0],1)),x])\n",
    "y = np.dot(x_b,theta_true) + np.random.normal(size=1000)"
   ]
  },
  {
   "cell_type": "code",
   "execution_count": 64,
   "metadata": {},
   "outputs": [
    {
     "name": "stdout",
     "output_type": "stream",
     "text": [
      "(1000, 10)\n",
      "(1000,)\n",
      "[ 1.  2.  3.  4.  5.  6.  7.  8.  9. 10. 11.]\n"
     ]
    }
   ],
   "source": [
    "print(x.shape)\n",
    "print(y.shape)\n",
    "print(theta_true)"
   ]
  },
  {
   "cell_type": "code",
   "execution_count": 75,
   "metadata": {},
   "outputs": [],
   "source": [
    "class Debug_GradientDescent(LinearRegressor):\n",
    "    def dJ(self,theta,x,y):\n",
    "        \"\"\"导数的定义\"\"\"\n",
    "        epsilon = 0.01\n",
    "        res = np.empty(len(theta))\n",
    "        for i in range(len(theta)):\n",
    "            theta_1 = theta.copy()\n",
    "            theta_1[i] += epsilon\n",
    "            theta_2 = theta.copy()\n",
    "            theta_2[i] -= epsilon\n",
    "            res[i] = (self.J(theta_1,x,y) - self.J(theta_2,x,y))/(2*epsilon)\n",
    "        return res"
   ]
  },
  {
   "cell_type": "code",
   "execution_count": 73,
   "metadata": {
    "scrolled": true
   },
   "outputs": [
    {
     "name": "stdout",
     "output_type": "stream",
     "text": [
      "Wall time: 14.5 s\n"
     ]
    },
    {
     "data": {
      "text/plain": [
       "array([ 1.1251597 ,  2.05312521,  2.91522497,  4.11895968,  5.05002117,\n",
       "        5.90494046,  6.97383745,  8.00088367,  8.86213468,  9.98608331,\n",
       "       10.90529198])"
      ]
     },
     "execution_count": 73,
     "metadata": {},
     "output_type": "execute_result"
    }
   ],
   "source": [
    "debug_gd = Debug_GradientDescent()\n",
    "theta = np.zeros([x.shape[1]+1])\n",
    "%time debug_gd.fit(theta,x,y,0.01)\n",
    "debug_gd._theta"
   ]
  },
  {
   "cell_type": "code",
   "execution_count": 74,
   "metadata": {},
   "outputs": [
    {
     "name": "stdout",
     "output_type": "stream",
     "text": [
      "Wall time: 1.58 s\n"
     ]
    },
    {
     "data": {
      "text/plain": [
       "array([ 1.1251597 ,  2.05312521,  2.91522497,  4.11895968,  5.05002117,\n",
       "        5.90494046,  6.97383745,  8.00088367,  8.86213468,  9.98608331,\n",
       "       10.90529198])"
      ]
     },
     "execution_count": 74,
     "metadata": {},
     "output_type": "execute_result"
    }
   ],
   "source": [
    "lr = LinearRegressor()\n",
    "theta = np.zeros([x.shape[1]+1])\n",
    "%time lr.fit(theta,x,y,0.01)\n",
    "lr._theta"
   ]
  },
  {
   "cell_type": "code",
   "execution_count": null,
   "metadata": {},
   "outputs": [],
   "source": []
  }
 ],
 "metadata": {
  "kernelspec": {
   "display_name": "Python 3",
   "language": "python",
   "name": "python3"
  },
  "language_info": {
   "codemirror_mode": {
    "name": "ipython",
    "version": 3
   },
   "file_extension": ".py",
   "mimetype": "text/x-python",
   "name": "python",
   "nbconvert_exporter": "python",
   "pygments_lexer": "ipython3",
   "version": "3.6.4"
  }
 },
 "nbformat": 4,
 "nbformat_minor": 2
}
