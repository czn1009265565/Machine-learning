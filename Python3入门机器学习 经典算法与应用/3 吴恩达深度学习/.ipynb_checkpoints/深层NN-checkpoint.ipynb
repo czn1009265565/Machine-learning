{
 "cells": [
  {
   "cell_type": "markdown",
   "metadata": {},
   "source": [
    "### 深层神经网络"
   ]
  },
  {
   "cell_type": "markdown",
   "metadata": {},
   "source": [
    "![](http://p9tybni1b.bkt.clouddn.com/%E6%B7%B1%E5%BA%A6NN.png)"
   ]
  },
  {
   "cell_type": "markdown",
   "metadata": {},
   "source": [
    "#### 为什么深层的网络在很多问题上比浅层的好？"
   ]
  },
  {
   "cell_type": "markdown",
   "metadata": {},
   "source": [
    "1. 前几层学习低层次简单特征\n",
    "2. 后几层结合多个简单特征，探测复杂特征"
   ]
  },
  {
   "cell_type": "markdown",
   "metadata": {},
   "source": [
    "深层的网络隐藏单元数量相对较少，隐藏层数目较多，如果浅层的网络想要达到同样的\n",
    "计算结果则需要指数级增长的单元数量才能达到。"
   ]
  },
  {
   "cell_type": "markdown",
   "metadata": {},
   "source": [
    "### 参数VS超参数"
   ]
  },
  {
   "cell_type": "markdown",
   "metadata": {},
   "source": [
    "1. 学习率\n",
    "2. 梯度下降循环数量\n",
    "3. 隐藏层数\n",
    "4. 隐藏层单元数目\n",
    "5. 激活函数选择"
   ]
  },
  {
   "cell_type": "markdown",
   "metadata": {},
   "source": [
    "应用深度学习领域，一个很大程度基于经验的过程，凭经验的过程通俗来说，就是试直到你找到合适的数值"
   ]
  },
  {
   "cell_type": "code",
   "execution_count": null,
   "metadata": {},
   "outputs": [],
   "source": []
  }
 ],
 "metadata": {
  "kernelspec": {
   "display_name": "Python 3",
   "language": "python",
   "name": "python3"
  },
  "language_info": {
   "codemirror_mode": {
    "name": "ipython",
    "version": 3
   },
   "file_extension": ".py",
   "mimetype": "text/x-python",
   "name": "python",
   "nbconvert_exporter": "python",
   "pygments_lexer": "ipython3",
   "version": "3.6.4"
  }
 },
 "nbformat": 4,
 "nbformat_minor": 2
}
