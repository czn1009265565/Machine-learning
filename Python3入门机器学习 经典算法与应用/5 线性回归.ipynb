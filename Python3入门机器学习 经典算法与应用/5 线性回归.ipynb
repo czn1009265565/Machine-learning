{
 "cells": [
  {
   "cell_type": "markdown",
   "metadata": {},
   "source": [
    "### 线性回归算法介绍"
   ]
  },
  {
   "cell_type": "markdown",
   "metadata": {},
   "source": [
    "1. 解决回归问题\n",
    "2. 思想简单，实现容易\n",
    "3. 许多强大的非线性模型的基础\n",
    "4. 结果具有很好的解释性\n",
    "5. 蕴含机器学习中很多重要的思想"
   ]
  },
  {
   "cell_type": "markdown",
   "metadata": {},
   "source": [
    "### 线性回归代价函数推导"
   ]
  },
  {
   "cell_type": "markdown",
   "metadata": {},
   "source": [
    "![](http://p9tybni1b.bkt.clouddn.com/%E7%BA%BF%E6%80%A7%E5%9B%9E%E5%BD%92%E4%BB%A3%E4%BB%B7%E5%87%BD%E6%95%B0%E6%8E%A8%E5%AF%BC.jpg)"
   ]
  },
  {
   "cell_type": "markdown",
   "metadata": {},
   "source": [
    "### 实现线性回归"
   ]
  },
  {
   "cell_type": "code",
   "execution_count": 1,
   "metadata": {},
   "outputs": [],
   "source": [
    "import numpy as np\n",
    "import matplotlib.pyplot as plt"
   ]
  },
  {
   "cell_type": "code",
   "execution_count": 7,
   "metadata": {},
   "outputs": [
    {
     "name": "stdout",
     "output_type": "stream",
     "text": [
      "a = 0.8 \n",
      " b =  0.39999999999999947\n",
      "[1.2 2.  2.8 3.6 4.4]\n"
     ]
    },
    {
     "data": {
      "text/plain": [
       "[<matplotlib.lines.Line2D at 0x255f3b77f28>]"
      ]
     },
     "execution_count": 7,
     "metadata": {},
     "output_type": "execute_result"
    },
    {
     "data": {
      "image/png": "[encoded data removed]",
      "text/plain": [
       "<Figure size 432x288 with 1 Axes>"
      ]
     },
     "metadata": {},
     "output_type": "display_data"
    }
   ],
   "source": [
    "x = np.array([1,2,3,4,5])\n",
    "y = np.array([1,3,2,3,5])\n",
    "\n",
    "x_mean = np.mean(x)\n",
    "y_mean = np.mean(y)\n",
    "\n",
    "a = np.sum(np.subtract(x,x_mean)*np.subtract(y,y_mean))/np.sum(np.power((x-x_mean),2))\n",
    "b = y_mean-a*x_mean\n",
    "y_predict = a*x + b\n",
    "print(\"a =\",a,\"\\n\",\"b = \",b)\n",
    "print(y_predict)\n",
    "plt.scatter(x,y)\n",
    "plt.plot(x,y_predict)"
   ]
  },
  {
   "cell_type": "markdown",
   "metadata": {},
   "source": [
    "### 自己实现线性回归"
   ]
  },
  {
   "cell_type": "code",
   "execution_count": 13,
   "metadata": {},
   "outputs": [],
   "source": [
    "class SimpleLinearRegression:\n",
    "    def __init__(self):\n",
    "        \"\"\"初始化简单线性模型\"\"\"\n",
    "        self.a_ = None\n",
    "        self.b_ = None\n",
    "        \n",
    "    def fit(self,trainX,trainY):\n",
    "        \"\"\"根据数据训练简单线性模型\"\"\"\n",
    "        assert trainX.ndim==1,\"SimpleLinearRegression must be input 1D\"\n",
    "        x_mean = np.mean(trainX)\n",
    "        y_mean = np.mean(trainY)\n",
    "        self.a_ = np.dot(np.subtract(trainX,x_mean),np.subtract(trainY,y_mean))/np.sum(np.power((trainX-x_mean),2))\n",
    "        self.b_ = y_mean-self.a_*x_mean\n",
    "        return self\n",
    "    \n",
    "    def _predict(self,test_x):\n",
    "        \"\"\"给定单个待测数，返回预测值\"\"\"\n",
    "        test_y = self.a_*test_x + self.b_\n",
    "        return test_y\n",
    "    \n",
    "    def predict(self,testX):\n",
    "        \"\"\"给定待测数据集，返回结果向量\"\"\"\n",
    "        return np.array([self._predict(i) for i in testX])"
   ]
  },
  {
   "cell_type": "code",
   "execution_count": 14,
   "metadata": {},
   "outputs": [
    {
     "name": "stdout",
     "output_type": "stream",
     "text": [
      "0.8\n",
      "0.39999999999999947\n"
     ]
    },
    {
     "data": {
      "text/plain": [
       "array([1.2, 2. , 2.8, 3.6, 4.4])"
      ]
     },
     "execution_count": 14,
     "metadata": {},
     "output_type": "execute_result"
    }
   ],
   "source": [
    "simpleLinearRegression = SimpleLinearRegression()\n",
    "simpleLinearRegression.fit(x,y)\n",
    "print(simpleLinearRegression.a_)\n",
    "print(simpleLinearRegression.b_)\n",
    "simpleLinearRegression.predict(x)"
   ]
  },
  {
   "cell_type": "markdown",
   "metadata": {},
   "source": [
    "### 衡量线性回归的指标"
   ]
  },
  {
   "cell_type": "markdown",
   "metadata": {},
   "source": [
    "均方误差MSE\n",
    "![均方误差MSE](http://p9tybni1b.bkt.clouddn.com/%E5%9D%87%E6%96%B9%E8%AF%AF%E5%B7%AE.png)"
   ]
  },
  {
   "cell_type": "markdown",
   "metadata": {},
   "source": [
    "均方根误差RMSE\n",
    "![均方根误差RMSE](http://p9tybni1b.bkt.clouddn.com/%E5%9D%87%E6%96%B9%E6%A0%B9%E8%AF%AF%E5%B7%AE.png)"
   ]
  },
  {
   "cell_type": "markdown",
   "metadata": {},
   "source": [
    "平均绝对误差MAE\n",
    "![平均绝对误差MAE](http://p9tybni1b.bkt.clouddn.com/%E5%B9%B3%E5%9D%87%E7%BB%9D%E5%AF%B9%E8%AF%AF%E5%B7%AE.png)"
   ]
  },
  {
   "cell_type": "code",
   "execution_count": 5,
   "metadata": {},
   "outputs": [],
   "source": [
    "import numpy as np\n",
    "import matplotlib.pyplot as plt\n",
    "from sklearn import datasets\n",
    "from sklearn.model_selection import train_test_split"
   ]
  },
  {
   "cell_type": "code",
   "execution_count": 9,
   "metadata": {},
   "outputs": [],
   "source": [
    "boston = datasets.load_boston()"
   ]
  },
  {
   "cell_type": "code",
   "execution_count": 11,
   "metadata": {},
   "outputs": [],
   "source": [
    "x = boston.data[:,5] # 只使用房间数量这特征\n",
    "y = boston.target\n",
    "x = x[y<50]\n",
    "y = y[y<50]"
   ]
  },
  {
   "cell_type": "code",
   "execution_count": 39,
   "metadata": {},
   "outputs": [
    {
     "data": {
      "text/plain": [
       "(0, 60)"
      ]
     },
     "execution_count": 39,
     "metadata": {},
     "output_type": "execute_result"
    },
    {
     "data": {
      "image/png": "[encoded data removed]",
      "text/plain": [
       "<Figure size 432x288 with 1 Axes>"
      ]
     },
     "metadata": {},
     "output_type": "display_data"
    }
   ],
   "source": [
    "plt.scatter(x,y)\n",
    "plt.xlim(2,10)\n",
    "plt.ylim(0,60)"
   ]
  },
  {
   "cell_type": "code",
   "execution_count": 47,
   "metadata": {},
   "outputs": [
    {
     "data": {
      "text/plain": [
       "[<matplotlib.lines.Line2D at 0x255f5ec8748>]"
      ]
     },
     "execution_count": 47,
     "metadata": {},
     "output_type": "execute_result"
    },
    {
     "data": {
      "image/png": "[encoded data removed]",
      "text/plain": [
       "<Figure size 432x288 with 2 Axes>"
      ]
     },
     "metadata": {},
     "output_type": "display_data"
    }
   ],
   "source": [
    "trainX,testX,trainY,testY = train_test_split(x,y,test_size=0.2)\n",
    "simpleLinearRegression = SimpleLinearRegression()\n",
    "simpleLinearRegression.fit(trainX,trainY)\n",
    "train_y = simpleLinearRegression.predict(trainX)\n",
    "test_y = simpleLinearRegression.predict(testX)\n",
    "\n",
    "plt.subplot(1,2,1)\n",
    "plt.scatter(trainX,trainY)\n",
    "plt.plot(trainX,train_y)\n",
    "\n",
    "plt.subplot(1,2,2)\n",
    "plt.scatter(testX,testY)\n",
    "plt.plot(testX,test_y)"
   ]
  },
  {
   "cell_type": "markdown",
   "metadata": {},
   "source": [
    "### MSE"
   ]
  },
  {
   "cell_type": "code",
   "execution_count": 51,
   "metadata": {},
   "outputs": [
    {
     "data": {
      "text/plain": [
       "40.95154236464736"
      ]
     },
     "execution_count": 51,
     "metadata": {},
     "output_type": "execute_result"
    }
   ],
   "source": [
    "mse = np.sum(np.power(np.subtract(test_y,testY),2))/test_y.shape[0]\n",
    "mse"
   ]
  },
  {
   "cell_type": "markdown",
   "metadata": {},
   "source": [
    "### RMSE"
   ]
  },
  {
   "cell_type": "code",
   "execution_count": 53,
   "metadata": {},
   "outputs": [
    {
     "data": {
      "text/plain": [
       "6.39933921312563"
      ]
     },
     "execution_count": 53,
     "metadata": {},
     "output_type": "execute_result"
    }
   ],
   "source": [
    "rmse = np.sqrt(mse)\n",
    "rmse"
   ]
  },
  {
   "cell_type": "markdown",
   "metadata": {},
   "source": [
    "### MAE"
   ]
  },
  {
   "cell_type": "code",
   "execution_count": 55,
   "metadata": {},
   "outputs": [
    {
     "data": {
      "text/plain": [
       "4.399066068730565"
      ]
     },
     "execution_count": 55,
     "metadata": {},
     "output_type": "execute_result"
    }
   ],
   "source": [
    "mae = np.sum(np.abs(test_y-testY))/test_y.shape[0]\n",
    "mae"
   ]
  },
  {
   "cell_type": "markdown",
   "metadata": {},
   "source": [
    "## R Squared"
   ]
  },
  {
   "cell_type": "markdown",
   "metadata": {},
   "source": [
    "![](http://p9tybni1b.bkt.clouddn.com/R%20Squared.png)"
   ]
  },
  {
   "cell_type": "code",
   "execution_count": 63,
   "metadata": {},
   "outputs": [
    {
     "data": {
      "text/plain": [
       "0.2541624531120106"
      ]
     },
     "execution_count": 63,
     "metadata": {},
     "output_type": "execute_result"
    }
   ],
   "source": [
    "r = 1-mse/np.var(testY)\n",
    "r"
   ]
  },
  {
   "cell_type": "code",
   "execution_count": 65,
   "metadata": {},
   "outputs": [
    {
     "data": {
      "text/plain": [
       "0.2541624531120107"
      ]
     },
     "execution_count": 65,
     "metadata": {},
     "output_type": "execute_result"
    }
   ],
   "source": [
    "from sklearn.metrics import r2_score\n",
    "\n",
    "\n",
    "r2_score(testY,test_y)"
   ]
  },
  {
   "cell_type": "markdown",
   "metadata": {},
   "source": [
    "## 多元线性回归"
   ]
  },
  {
   "cell_type": "markdown",
   "metadata": {},
   "source": [
    "优点:不需要对数据做归一化处理<br>\n",
    "缺点：时间复杂度高"
   ]
  },
  {
   "cell_type": "markdown",
   "metadata": {},
   "source": [
    "![正规方程](http://p9tybni1b.bkt.clouddn.com/%E6%AD%A3%E8%A7%84%E6%96%B9%E7%A8%8B%E8%A7%A3.jpg)"
   ]
  },
  {
   "cell_type": "markdown",
   "metadata": {},
   "source": [
    "### 自己实现正规方程法LinearRegressor"
   ]
  },
  {
   "cell_type": "code",
   "execution_count": 114,
   "metadata": {},
   "outputs": [],
   "source": [
    "from sklearn.metrics import r2_score\n",
    "\n",
    "class LinearRegressor:\n",
    "    def __init__(self):\n",
    "        self.coef_ = None # θ向量\n",
    "        self.intercept_ = None # 截距\n",
    "        self._theta = None\n",
    "        \n",
    "    def fit(self,trainX,trainY):\n",
    "        x = np.hstack((np.ones((trainX.shape[0],1)),trainX))\n",
    "        self._theta = np.linalg.inv(np.dot(x.T,x)).dot(x.T).dot(trainY)\n",
    "        self.intercept_ = self._theta[0] # 截距\n",
    "        self.coef_ = self._theta[1:] # 权重参数weights\n",
    "        return self\n",
    "    \n",
    "    def predict(self,testX):\n",
    "        x = np.hstack((np.ones((testX.shape[0],1)),testX))\n",
    "        y = np.dot(x,self._theta.reshape(-1,1))\n",
    "#         y = np.dot(x,self._theta)\n",
    "        return y\n",
    "    \n",
    "    def score(self,testX,testY):\n",
    "        return r2_score(testY,self.predict(testX))"
   ]
  },
  {
   "cell_type": "code",
   "execution_count": 115,
   "metadata": {},
   "outputs": [
    {
     "name": "stdout",
     "output_type": "stream",
     "text": [
      "(98, 1)\n",
      "[-1.18919477e-01  3.63991462e-02 -3.56494193e-02  5.66737830e-02\n",
      " -1.16195486e+01  3.42022185e+00 -2.31470282e-02 -1.19509560e+00\n",
      "  2.59339091e-01 -1.40112724e-02 -8.36521175e-01  7.92283639e-03\n",
      " -3.81966137e-01]\n",
      "34.16143549624022\n",
      "0.8129802602658537\n"
     ]
    }
   ],
   "source": [
    "trainX,testX,trainY,testY = train_test_split(x,y,test_size=0.2,random_state=666)\n",
    "lin_reg = LinearRegressor()\n",
    "lin_reg.fit(trainX,trainY)\n",
    "print(lin_reg.predict(testX).shape)\n",
    "print(lin_reg.coef_)\n",
    "print(lin_reg.intercept_)\n",
    "print(lin_reg.score(testX,testY))"
   ]
  },
  {
   "cell_type": "markdown",
   "metadata": {},
   "source": [
    "### 实现多元线性回归模型"
   ]
  },
  {
   "cell_type": "code",
   "execution_count": 12,
   "metadata": {},
   "outputs": [
    {
     "data": {
      "text/plain": [
       "(490, 13)"
      ]
     },
     "execution_count": 12,
     "metadata": {},
     "output_type": "execute_result"
    }
   ],
   "source": [
    "boston = datasets.load_boston()\n",
    "x = boston.data\n",
    "y = boston.target\n",
    "x = x[y<50]\n",
    "y = y[y<50]\n",
    "x.shape"
   ]
  },
  {
   "cell_type": "code",
   "execution_count": 14,
   "metadata": {},
   "outputs": [
    {
     "name": "stdout",
     "output_type": "stream",
     "text": [
      "(98,)\n",
      "[-1.18919477e-01  3.63991462e-02 -3.56494193e-02  5.66737830e-02\n",
      " -1.16195486e+01  3.42022185e+00 -2.31470282e-02 -1.19509560e+00\n",
      "  2.59339091e-01 -1.40112724e-02 -8.36521175e-01  7.92283639e-03\n",
      " -3.81966137e-01]\n",
      "34.16143549624665\n",
      "0.8129802602658495\n"
     ]
    }
   ],
   "source": [
    "from sklearn.linear_model import LinearRegression\n",
    "from sklearn.model_selection import train_test_split\n",
    "\n",
    "\n",
    "trainX,testX,trainY,testY = train_test_split(x,y,test_size=0.2,random_state=666)\n",
    "lin_reg = LinearRegression()\n",
    "lin_reg.fit(trainX,trainY)\n",
    "print(lin_reg.predict(testX).shape)\n",
    "print(lin_reg.coef_)\n",
    "print(lin_reg.intercept_)\n",
    "print(lin_reg.score(testX,testY))"
   ]
  },
  {
   "cell_type": "markdown",
   "metadata": {},
   "source": [
    "### KNN Regressor"
   ]
  },
  {
   "cell_type": "code",
   "execution_count": 25,
   "metadata": {},
   "outputs": [
    {
     "name": "stdout",
     "output_type": "stream",
     "text": [
      "0.7171226604429326\n"
     ]
    },
    {
     "data": {
      "text/plain": [
       "0.5865412198300899"
      ]
     },
     "execution_count": 25,
     "metadata": {},
     "output_type": "execute_result"
    }
   ],
   "source": [
    "from sklearn.neighbors import KNeighborsRegressor\n",
    "from sklearn.metrics import r2_score\n",
    "\n",
    "\n",
    "kneighborsRegressor = KNeighborsRegressor()\n",
    "kneighborsRegressor.fit(trainX,trainY)\n",
    "print(kneighborsRegressor.score(trainX,trainY))\n",
    "y_predict = kneighborsRegressor.predict(testX)\n",
    "r2_score(testY,y_predict)"
   ]
  },
  {
   "cell_type": "code",
   "execution_count": 26,
   "metadata": {},
   "outputs": [
    {
     "name": "stdout",
     "output_type": "stream",
     "text": [
      "Fitting 3 folds for each of 60 candidates, totalling 180 fits\n"
     ]
    },
    {
     "name": "stderr",
     "output_type": "stream",
     "text": [
      "[Parallel(n_jobs=-1)]: Done 180 out of 180 | elapsed:    1.7s finished\n"
     ]
    },
    {
     "data": {
      "text/plain": [
       "GridSearchCV(cv=None, error_score='raise',\n",
       "       estimator=KNeighborsRegressor(algorithm='auto', leaf_size=30, metric='minkowski',\n",
       "          metric_params=None, n_jobs=1, n_neighbors=5, p=2,\n",
       "          weights='uniform'),\n",
       "       fit_params=None, iid=True, n_jobs=-1,\n",
       "       param_grid=[{'weights': ['uniform'], 'n_neighbors': [1, 2, 3, 4, 5, 6, 7, 8, 9, 10]}, {'weights': ['distance'], 'n_neighbors': [1, 2, 3, 4, 5, 6, 7, 8, 9, 10], 'p': [1, 2, 3, 4, 5]}],\n",
       "       pre_dispatch='2*n_jobs', refit=True, return_train_score='warn',\n",
       "       scoring=None, verbose=1)"
      ]
     },
     "execution_count": 26,
     "metadata": {},
     "output_type": "execute_result"
    }
   ],
   "source": [
    "from sklearn.model_selection import GridSearchCV\n",
    "\n",
    "\n",
    "param_grid = [\n",
    "    {\n",
    "        'weights':['uniform'],\n",
    "        'n_neighbors':[i for i in range(1,11)]\n",
    "    },\n",
    "    {\n",
    "        'weights':['distance'],\n",
    "        'n_neighbors':[i for i in range(1,11)],\n",
    "        'p':[i for i in range(1,6)]\n",
    "    }\n",
    "]\n",
    "\n",
    "knn_reg = KNeighborsRegressor()\n",
    "grid_search = GridSearchCV(knn_reg,param_grid,n_jobs=-1,verbose=1)\n",
    "grid_search.fit(trainX,trainY)"
   ]
  },
  {
   "cell_type": "code",
   "execution_count": 29,
   "metadata": {},
   "outputs": [
    {
     "name": "stdout",
     "output_type": "stream",
     "text": [
      "0.634093080186858\n",
      "0.7044357727037996\n"
     ]
    }
   ],
   "source": [
    "print(grid_search.best_score_)\n",
    "print(grid_search.best_estimator_.score(testX,testY))"
   ]
  },
  {
   "cell_type": "markdown",
   "metadata": {},
   "source": [
    "## 更多关于线性回归模型的讨论"
   ]
  },
  {
   "cell_type": "markdown",
   "metadata": {},
   "source": [
    "1. 对数据具有强解释性，正负相关影响因素大小，从而使我们有目标性的采集数据\n",
    "2. 对数据有假设：线性\n",
    "3. 对数据进行多元线性回归试探关系，总归是没有坏处的"
   ]
  }
 ],
 "metadata": {
  "kernelspec": {
   "display_name": "Python 3",
   "language": "python",
   "name": "python3"
  },
  "language_info": {
   "codemirror_mode": {
    "name": "ipython",
    "version": 3
   },
   "file_extension": ".py",
   "mimetype": "text/x-python",
   "name": "python",
   "nbconvert_exporter": "python",
   "pygments_lexer": "ipython3",
   "version": "3.6.4"
  }
 },
 "nbformat": 4,
 "nbformat_minor": 2
}
