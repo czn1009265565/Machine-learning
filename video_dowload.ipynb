{
 "cells": [
  {
   "cell_type": "code",
   "execution_count": 1,
   "metadata": {},
   "outputs": [],
   "source": [
    "import hashlib"
   ]
  },
  {
   "cell_type": "code",
   "execution_count": 2,
   "metadata": {},
   "outputs": [
    {
     "name": "stdout",
     "output_type": "stream",
     "text": [
      "5264dc382a0464b8153b1d9215b164c5\n"
     ]
    }
   ],
   "source": [
    "md5 = hashlib.md5()\n",
    "md5.update(b\"829_220111eDu_51Cto_siyuanTlw\")\n",
    "print(md5.hexdigest())"
   ]
  },
  {
   "cell_type": "code",
   "execution_count": 3,
   "metadata": {},
   "outputs": [
    {
     "name": "stdout",
     "output_type": "stream",
     "text": [
      "5264dc382a0464b8153b1d9215b164c5\n"
     ]
    }
   ],
   "source": [
    "import hashlib\n",
    " \n",
    "md5 = hashlib.md5()\n",
    "md5.update(bytes('829_220111eDu_51Cto_siyuanTlw',encoding=\"utf-8\"))\n",
    "print(md5.hexdigest())"
   ]
  },
  {
   "cell_type": "code",
   "execution_count": 1,
   "metadata": {},
   "outputs": [],
   "source": [
    "import requests"
   ]
  },
  {
   "cell_type": "code",
   "execution_count": 2,
   "metadata": {},
   "outputs": [],
   "source": [
    "url = \"http://edu.51cto.com//center/player/play/m3u8?lesson_id=829_220111&id=209962&dp=general&type=wejoboutcourse&lesson_type=course\"\n",
    "cookies = {\"Hm_lvt_8c8abdb71d78d33dfdb885e0bc71dae0\": \"1528717985\", \"pub_sauth2\": \"100925ad8d5b0ec464c414d7e148d24d\", \"pub_cookietime\": \"0\", \"51ctologToken\": \"55e875fc43f0c6e6680bcb4fb92b2fda\", \"www51cto\": \"E6241097E940988E6A1698A539A51A87PHzf\", \"acw_tc\": \"AQAAAEqkEVNaiwUA0qLZc/hneDQMgEbM\", \"_51ctologStr\": \"data=%7Bvisitorid:%2255e875fc43f0c6e6680bcb4fb92b2fda%22,userAagent:%22Mozilla/5.0%20(Windows%20NT%2010.0\", \"pub_sauth1\": \"BRFKAQtQBVICBwMFagFSAw0AA1RvAwADWlQGUwxcVg\", \"_csrf\": \"4017e3e6f19c8de8afe2e2c8982a8d161888507784ac9736b846000bc6754b3fa%3A2%3A%7Bi%3A0%3Bs%3A5%3A%22_csrf%22%3Bi%3A1%3Bs%3A32%3A%22%CByd%ED%E7%C4%D9%95W%60%1CD%83WRa%B7%7F%8Dc%B4%01%CFq%B1%D7%A4%5D%13Ytf%22%3B%7D\", \"PHPSESSID\": \"vkuiaqquvahlua0ee4q7kgq83c\", \"8479370flag\": \"yes\", \"logserveruid\": \"8479370\", \"_ourplusFirstTime\": \"118-6-11-19-53-5\", \"_ourplusReturnTime\": \"118-6-11-19-53-5\", \"_ourplusReturnCount\": \"1\", \"_gat_gtag_UA_118863081_1\": \"1\", \"Hm_lpvt_8c8abdb71d78d33dfdb885e0bc71dae0\": \"1528717985\", \"_ga\": \"GA1.2.415948413.1528717985\", \"_gid\": \"GA1.2.1288243988.1528717985\", \"Cto_lpvt_\": \"1528717985\", \"Cto_lvt_\": \"1528717985,1528717985\"}\n",
    "headers = headers = {\"User-Agent\":\"Mozilla/5.0 (Windows NT 10.0; WOW64) AppleWebKit/537.36 (KHTML, like Gecko) Chrome/66.0.3359.181 Safari/537.36\"\n",
    "}"
   ]
  },
  {
   "cell_type": "code",
   "execution_count": 3,
   "metadata": {},
   "outputs": [],
   "source": [
    "res = requests.get(url=url,headers=headers,cookies=cookies)"
   ]
  },
  {
   "cell_type": "code",
   "execution_count": 4,
   "metadata": {},
   "outputs": [
    {
     "data": {
      "text/plain": [
       "'#EXTM3U\\n#EXT-X-STREAM-INF:PROGRAM-ID=1, BANDWIDTH=364000, RESOLUTION=852x480, AUDIO=\"audio\"\\n#EXT-X-TARGETDURATION:11\\n#EXT-X-MEDIA-SEQUENCE:0\\n#EXT-X-VERSION:3\\n#EXT-X-KEY:METHOD=AES-128,URI=\"/center/player/play/get-key?lesson_id=829_220111&id=209962&type=wejoboutcourse&lesson_type=course&isPreview=0\",IV=0x0123456789abcdef0123456789abcdef\\n#EXTINF:10.000\\nhttps://v15.51cto.com/?p=/part/2017/12/14/209962/4ab3/general/loco_video_364000_0.ts&stime=1528945170&sKey=ZjZmZGRhZDVmNGI1MGEwYTE4OWU4ZDY2NWQ4N2M2ODg&flag=1&sname=loco_video_364000_0.ts\\n#EXTINF:10.000\\nhttps://v15.51cto.com/?p=/part/2017/12/14/209962/4ab3/general/loco_video_364000_1.ts&stime=1528945170&sKey=MmRjZjhlZWRiOWZhNGMyNTQ4NTViNWJkY2NmM2YxYTc&flag=1&sname=loco_video_364000_1.ts\\n#EXTINF:10.000\\nhttps://v15.51cto.com/?p=/part/2017/12/14/209962/4ab3/general/loco_video_364000_2.ts&stime=1528945170&sKey=MWUzOWJmOWQ3NWI1NTQ2MmMwZmQ0ZDJhNGVjMjZlZTE&flag=1&sname=loco_video_364000_2.ts\\n#EXTINF:10.000\\nhttps://v15.51cto.com/?p=/part/2017/12/14/209962/4ab3/general/loco_video_364000_3.ts&stime=1528945170&sKey=ZTIyZTkxZTk3ZTNiYWVmMjY1N2Y4Yzk1NGYzOWZkOTA&flag=1&sname=loco_video_364000_3.ts\\n#EXTINF:10.000\\nhttps://v15.51cto.com/?p=/part/2017/12/14/209962/4ab3/general/loco_video_364000_4.ts&stime=1528945170&sKey=YjVkZWUxZjc1OGNhMWYzODY5OTMzOThiODk4NzAwYmU&flag=1&sname=loco_video_364000_4.ts\\n#EXTINF:10.000\\nhttps://v15.51cto.com/?p=/part/2017/12/14/209962/4ab3/general/loco_video_364000_5.ts&stime=1528945170&sKey=NTVjOWQ3NjczMmQ4M2FmYjBhMGEzZGE4OTRiYWQxOTI&flag=1&sname=loco_video_364000_5.ts\\n#EXTINF:10.000\\nhttps://v15.51cto.com/?p=/part/2017/12/14/209962/4ab3/general/loco_video_364000_6.ts&stime=1528945170&sKey=M2NlY2VhZmRmZTIyNDQzMzIyY2ViNjAyMjI5MDVkMjA&flag=1&sname=loco_video_364000_6.ts\\n#EXTINF:10.000\\nhttps://v15.51cto.com/?p=/part/2017/12/14/209962/4ab3/general/loco_video_364000_7.ts&stime=1528945170&sKey=OGFiNzczZmE1OTM4YzE2Yzk1MmFmOTFlMWFiZGI4N2Y&flag=1&sname=loco_video_364000_7.ts\\n#EXTINF:10.000\\nhttps://v15.51cto.com/?p=/part/2017/12/14/209962/4ab3/general/loco_video_364000_8.ts&stime=1528945170&sKey=MTZhN2QwYjZhMjkyYWMxY2RiODg3ZGEyOGEwMjIzNzA&flag=1&sname=loco_video_364000_8.ts\\n#EXTINF:10.000\\nhttps://v15.51cto.com/?p=/part/2017/12/14/209962/4ab3/general/loco_video_364000_9.ts&stime=1528945170&sKey=MzM4MDkxMDdkM2ZjMzgwNDBlODEzZDI4OWMzYjY2ZTQ&flag=1&sname=loco_video_364000_9.ts\\n#EXTINF:10.000\\nhttps://v15.51cto.com/?p=/part/2017/12/14/209962/4ab3/general/loco_video_364000_10.ts&stime=1528945170&sKey=Y2JjMGUzMjI3ZTE0NGIwYTUxMjE1YmU0MzkyZDI5MjY&flag=1&sname=loco_video_364000_10.ts\\n#EXTINF:10.000\\nhttps://v15.51cto.com/?p=/part/2017/12/14/209962/4ab3/general/loco_video_364000_11.ts&stime=1528945170&sKey=ZGJkMWM5YjMxN2M2OGE3YzNhNjMxNjZiMTJmMTQ2NjQ&flag=1&sname=loco_video_364000_11.ts\\n#EXTINF:10.000\\nhttps://v15.51cto.com/?p=/part/2017/12/14/209962/4ab3/general/loco_video_364000_12.ts&stime=1528945170&sKey=NDAwNDU1MzBiMDYyNGJlNThlNTI5NWRmN2MwMzFlNzI&flag=1&sname=loco_video_364000_12.ts\\n#EXTINF:10.000\\nhttps://v15.51cto.com/?p=/part/2017/12/14/209962/4ab3/general/loco_video_364000_13.ts&stime=1528945170&sKey=OWQ0ZDQ2OTU1MDQ1NTkxZWI3ODU1YTJmNDAxNmQyNDk&flag=1&sname=loco_video_364000_13.ts\\n#EXTINF:10.000\\nhttps://v15.51cto.com/?p=/part/2017/12/14/209962/4ab3/general/loco_video_364000_14.ts&stime=1528945170&sKey=ZGI2ODVlNGVlYWU5YjUwNjc4ZmIyYTJiNzQ2MDgyZDg&flag=1&sname=loco_video_364000_14.ts\\n#EXTINF:10.000\\nhttps://v15.51cto.com/?p=/part/2017/12/14/209962/4ab3/general/loco_video_364000_15.ts&stime=1528945170&sKey=ZDQzOTI2NDIyYzcxZTc1MzZmYjBlODg5NTA5ODA5ZjE&flag=1&sname=loco_video_364000_15.ts\\n#EXTINF:10.000\\nhttps://v15.51cto.com/?p=/part/2017/12/14/209962/4ab3/general/loco_video_364000_16.ts&stime=1528945170&sKey=N2Q3NGZmNGFmMGQ4MzNjMTcwYTA2YTg3NWMwOTZkYzU&flag=1&sname=loco_video_364000_16.ts\\n#EXTINF:10.000\\nhttps://v15.51cto.com/?p=/part/2017/12/14/209962/4ab3/general/loco_video_364000_17.ts&stime=1528945170&sKey=YWVhMDQ3NTk0Y2RjMWRiMDkwYjZkNDliNDg3ZmI3NGE&flag=1&sname=loco_video_364000_17.ts\\n#EXTINF:10.000\\nhttps://v15.51cto.com/?p=/part/2017/12/14/209962/4ab3/general/loco_video_364000_18.ts&stime=1528945170&sKey=OTYzODZlNjQxNDhmNzI1NGYyZjkxZjk0MGEyZGZkMjk&flag=1&sname=loco_video_364000_18.ts\\n#EXTINF:10.000\\nhttps://v15.51cto.com/?p=/part/2017/12/14/209962/4ab3/general/loco_video_364000_19.ts&stime=1528945170&sKey=OTM2ZDc4MDM3MDA0NTE2ZDhiYWQwMDliMDQyZDgyNDI&flag=1&sname=loco_video_364000_19.ts\\n#EXTINF:10.000\\nhttps://v15.51cto.com/?p=/part/2017/12/14/209962/4ab3/general/loco_video_364000_20.ts&stime=1528945170&sKey=MmFjOWUzMWM3NjFiNTVhOWIyNGI1NmE2MDZmYjFlOWQ&flag=1&sname=loco_video_364000_20.ts\\n#EXTINF:10.000\\nhttps://v15.51cto.com/?p=/part/2017/12/14/209962/4ab3/general/loco_video_364000_21.ts&stime=1528945170&sKey=N2Y0MmIxOThkMzdmNjY0OWJkYzc3YTFiOGM0MWEyODQ&flag=1&sname=loco_video_364000_21.ts\\n#EXTINF:10.000\\nhttps://v15.51cto.com/?p=/part/2017/12/14/209962/4ab3/general/loco_video_364000_22.ts&stime=1528945170&sKey=NTlkODkwMmU4OTIxZDRhYWUzNGE4NzM0MjQ2YWJjOTY&flag=1&sname=loco_video_364000_22.ts\\n#EXTINF:10.000\\nhttps://v15.51cto.com/?p=/part/2017/12/14/209962/4ab3/general/loco_video_364000_23.ts&stime=1528945170&sKey=ODUwOWFkNGUxNTVjODVkZGRkY2Q5ZTMxYWVjY2YzMDI&flag=1&sname=loco_video_364000_23.ts\\n#EXTINF:10.000\\nhttps://v15.51cto.com/?p=/part/2017/12/14/209962/4ab3/general/loco_video_364000_24.ts&stime=1528945170&sKey=NzIwYmM2YTE0Yjc1ZjNiMjJhODQ3ZmI1MjBjZDQxNDA&flag=1&sname=loco_video_364000_24.ts\\n#EXTINF:10.000\\nhttps://v15.51cto.com/?p=/part/2017/12/14/209962/4ab3/general/loco_video_364000_25.ts&stime=1528945170&sKey=MjFmZGZkNTI0ODkyYjdiMDhjYmFkYWYyZmYxYzI2YjQ&flag=1&sname=loco_video_364000_25.ts\\n#EXTINF:10.000\\nhttps://v15.51cto.com/?p=/part/2017/12/14/209962/4ab3/general/loco_video_364000_26.ts&stime=1528945170&sKey=M2U1OWRiZTZmZTg3NDJhMWE3OWE1ZDNlN2VhOWNkZTU&flag=1&sname=loco_video_364000_26.ts\\n#EXTINF:10.000\\nhttps://v15.51cto.com/?p=/part/2017/12/14/209962/4ab3/general/loco_video_364000_27.ts&stime=1528945170&sKey=ZWFhMmVmMzBjMjRhZjhlMjU3ZDliNzRjY2I4NjZlYTU&flag=1&sname=loco_video_364000_27.ts\\n#EXTINF:10.000\\nhttps://v15.51cto.com/?p=/part/2017/12/14/209962/4ab3/general/loco_video_364000_28.ts&stime=1528945170&sKey=MGI5NzYzNmRkNjAwYTgyNjk3NjFmNzNhYjM0NDUxYTI&flag=1&sname=loco_video_364000_28.ts\\n#EXTINF:10.000\\nhttps://v15.51cto.com/?p=/part/2017/12/14/209962/4ab3/general/loco_video_364000_29.ts&stime=1528945170&sKey=NWIxZGZhNmQ3MmI0YjFkM2JmOTY3OWMyYjUzN2Q0ZDY&flag=1&sname=loco_video_364000_29.ts\\n#EXTINF:10.000\\nhttps://v15.51cto.com/?p=/part/2017/12/14/209962/4ab3/general/loco_video_364000_30.ts&stime=1528945170&sKey=NWVhMGQxMzNlZmYzYWJkNTdhNjk5YzQxZDM0YjAxZjY&flag=1&sname=loco_video_364000_30.ts\\n#EXTINF:10.000\\nhttps://v15.51cto.com/?p=/part/2017/12/14/209962/4ab3/general/loco_video_364000_31.ts&stime=1528945170&sKey=NDdhNTg3YThlMmI1MTAyYjA5YmM2NTNmZDU2YjE1NDc&flag=1&sname=loco_video_364000_31.ts\\n#EXTINF:10.000\\nhttps://v15.51cto.com/?p=/part/2017/12/14/209962/4ab3/general/loco_video_364000_32.ts&stime=1528945170&sKey=ZDA3YzFkNDgzNGMzOTU4NjM0YjFkMzE2MDhjYjYzNWI&flag=1&sname=loco_video_364000_32.ts\\n#EXTINF:10.000\\nhttps://v15.51cto.com/?p=/part/2017/12/14/209962/4ab3/general/loco_video_364000_33.ts&stime=1528945170&sKey=Zjk0YWRmZGQ3N2JkZDM5MzkyYWE3N2UwNzA2MTNhZDM&flag=1&sname=loco_video_364000_33.ts\\n#EXTINF:10.000\\nhttps://v15.51cto.com/?p=/part/2017/12/14/209962/4ab3/general/loco_video_364000_34.ts&stime=1528945170&sKey=ZDEzMTQxNDhiZTY4YTE3YzE5YjM1OThhMWUzYjdhZjQ&flag=1&sname=loco_video_364000_34.ts\\n#EXTINF:10.000\\nhttps://v15.51cto.com/?p=/part/2017/12/14/209962/4ab3/general/loco_video_364000_35.ts&stime=1528945170&sKey=NWYwNjQwNDUyNTc5NzRiYmFmMWQyYTcyMmZiNTNiMDA&flag=1&sname=loco_video_364000_35.ts\\n#EXTINF:10.000\\nhttps://v15.51cto.com/?p=/part/2017/12/14/209962/4ab3/general/loco_video_364000_36.ts&stime=1528945170&sKey=YTk3N2U4NmFhYzc3MTNmYzEwMzkxYTViMzY0OWIyYmY&flag=1&sname=loco_video_364000_36.ts\\n#EXTINF:10.000\\nhttps://v15.51cto.com/?p=/part/2017/12/14/209962/4ab3/general/loco_video_364000_37.ts&stime=1528945170&sKey=MGU5YjIwNGQyZmJkZTJiNGQyOWFmY2U5MDgyMTYyYTM&flag=1&sname=loco_video_364000_37.ts\\n#EXTINF:10.000\\nhttps://v15.51cto.com/?p=/part/2017/12/14/209962/4ab3/general/loco_video_364000_38.ts&stime=1528945170&sKey=ZjYyMWRiYzNhZTYwMWRjOGI0Y2EwMTI3YjAyYzM2N2M&flag=1&sname=loco_video_364000_38.ts\\n#EXTINF:10.000\\nhttps://v15.51cto.com/?p=/part/2017/12/14/209962/4ab3/general/loco_video_364000_39.ts&stime=1528945170&sKey=M2ZkYzgzNzQ3YWExOTllMDBmNzE2YmRlNDJmYWYzY2Q&flag=1&sname=loco_video_364000_39.ts\\n#EXTINF:10.000\\nhttps://v15.51cto.com/?p=/part/2017/12/14/209962/4ab3/general/loco_video_364000_40.ts&stime=1528945170&sKey=OWQyZjhiYzJjNDEzMzQ0MDM4ODk2NGMyN2ZlMTZkNDg&flag=1&sname=loco_video_364000_40.ts\\n#EXTINF:10.000\\nhttps://v15.51cto.com/?p=/part/2017/12/14/209962/4ab3/general/loco_video_364000_41.ts&stime=1528945170&sKey=NWUyM2ZmMWNhNzU2ZGQ3OTAyOTc2MTQxMGQyMzI0Y2E&flag=1&sname=loco_video_364000_41.ts\\n#EXTINF:10.000\\nhttps://v15.51cto.com/?p=/part/2017/12/14/209962/4ab3/general/loco_video_364000_42.ts&stime=1528945170&sKey=ZTAxZGQ2MGY4MmYwNjZjZjJhMGRjMjVmNTU2ZDUxZTU&flag=1&sname=loco_video_364000_42.ts\\n#EXTINF:10.000\\nhttps://v15.51cto.com/?p=/part/2017/12/14/209962/4ab3/general/loco_video_364000_43.ts&stime=1528945170&sKey=YmVlYmI3OTg0MDhjNjRiZjAxNWI1YTEzMGI5ZDkxNjk&flag=1&sname=loco_video_364000_43.ts\\n#EXTINF:10.000\\nhttps://v15.51cto.com/?p=/part/2017/12/14/209962/4ab3/general/loco_video_364000_44.ts&stime=1528945170&sKey=NjNiMzRhZTMzM2FmYzAyZWFjNTRlZWY1ODEzMDc2NWE&flag=1&sname=loco_video_364000_44.ts\\n#EXTINF:10.000\\nhttps://v15.51cto.com/?p=/part/2017/12/14/209962/4ab3/general/loco_video_364000_45.ts&stime=1528945170&sKey=NmNlOWE4ZWM4OWFlZjBhMmE1NDRlYzAyOWRmNjRjYTY&flag=1&sname=loco_video_364000_45.ts\\n#EXTINF:10.000\\nhttps://v15.51cto.com/?p=/part/2017/12/14/209962/4ab3/general/loco_video_364000_46.ts&stime=1528945170&sKey=MjcxNWI5NThjNzEzMzNlMjFmYzVkNjgzMmY0ZjFjODA&flag=1&sname=loco_video_364000_46.ts\\n#EXTINF:10.000\\nhttps://v15.51cto.com/?p=/part/2017/12/14/209962/4ab3/general/loco_video_364000_47.ts&stime=1528945170&sKey=MDA3Njg0N2Y3YmQzNmQ4MzdlZGIzMTE4MGNlZjE5ZjM&flag=1&sname=loco_video_364000_47.ts\\n#EXTINF:10.000\\nhttps://v15.51cto.com/?p=/part/2017/12/14/209962/4ab3/general/loco_video_364000_48.ts&stime=1528945170&sKey=NTBkYTUxYTQwODFkMjU0MTEzMDA5ZTcxNGNiODNmMzg&flag=1&sname=loco_video_364000_48.ts\\n#EXTINF:10.000\\nhttps://v15.51cto.com/?p=/part/2017/12/14/209962/4ab3/general/loco_video_364000_49.ts&stime=1528945170&sKey=NjAxYzFhZDc4YTI4NWNjOTlkMmRlNzkxOTg3Yzk1NzM&flag=1&sname=loco_video_364000_49.ts\\n#EXTINF:10.000\\nhttps://v15.51cto.com/?p=/part/2017/12/14/209962/4ab3/general/loco_video_364000_50.ts&stime=1528945170&sKey=YWQ1NzM4NTQxZjg4YzYxYTljNmE3MzY1ZWJjOTA5ODE&flag=1&sname=loco_video_364000_50.ts\\n#EXTINF:10.000\\nhttps://v15.51cto.com/?p=/part/2017/12/14/209962/4ab3/general/loco_video_364000_51.ts&stime=1528945170&sKey=ZTc0ZDg1OTI5NzYxZGU0OGFmYjMyYjg2ZTE5NDk0MWE&flag=1&sname=loco_video_364000_51.ts\\n#EXTINF:10.000\\nhttps://v15.51cto.com/?p=/part/2017/12/14/209962/4ab3/general/loco_video_364000_52.ts&stime=1528945170&sKey=NzU5NGVkY2NhM2VlMjhmZWE2NzkxOWI3YmI5MmEyMGE&flag=1&sname=loco_video_364000_52.ts\\n#EXTINF:10.000\\nhttps://v15.51cto.com/?p=/part/2017/12/14/209962/4ab3/general/loco_video_364000_53.ts&stime=1528945170&sKey=NTA3Y2M4ZjZiMmQ1NmRmNjkyNDQ3MjA4OTI2NmM0YjU&flag=1&sname=loco_video_364000_53.ts\\n#EXTINF:10.000\\nhttps://v15.51cto.com/?p=/part/2017/12/14/209962/4ab3/general/loco_video_364000_54.ts&stime=1528945170&sKey=ZDNhOTMyZjVkZjhmMGIzZWYxYjllYTcwY2I4N2I4YWI&flag=1&sname=loco_video_364000_54.ts\\n#EXTINF:10.000\\nhttps://v15.51cto.com/?p=/part/2017/12/14/209962/4ab3/general/loco_video_364000_55.ts&stime=1528945170&sKey=MDkxYWNhYTNlZDFjNzc2MGY0OGQ3Mjg4MzVlODQxZWM&flag=1&sname=loco_video_364000_55.ts\\n#EXTINF:10.000\\nhttps://v15.51cto.com/?p=/part/2017/12/14/209962/4ab3/general/loco_video_364000_56.ts&stime=1528945170&sKey=MGMxYWIwZDYwODQzZGFjZDVkZjE3YWUyOGZlNTUwMmM&flag=1&sname=loco_video_364000_56.ts\\n#EXTINF:10.000\\nhttps://v15.51cto.com/?p=/part/2017/12/14/209962/4ab3/general/loco_video_364000_57.ts&stime=1528945170&sKey=OGJjOWFmODUxZmIzMmY3MDM0Mjc4MWI0ZDVjMDA2ZTc&flag=1&sname=loco_video_364000_57.ts\\n#EXTINF:10.000\\nhttps://v15.51cto.com/?p=/part/2017/12/14/209962/4ab3/general/loco_video_364000_58.ts&stime=1528945170&sKey=ZWUwZWJjY2NlNjk5ODhjM2E5Yzk0MmZmMmE0MTMxZDY&flag=1&sname=loco_video_364000_58.ts\\n#EXTINF:10.000\\nhttps://v15.51cto.com/?p=/part/2017/12/14/209962/4ab3/general/loco_video_364000_59.ts&stime=1528945170&sKey=ODg2NzRhYTIwOTFkMTdkZjhkY2I5M2MwMDdhNWY1MzM&flag=1&sname=loco_video_364000_59.ts\\n#EXTINF:10.000\\nhttps://v15.51cto.com/?p=/part/2017/12/14/209962/4ab3/general/loco_video_364000_60.ts&stime=1528945170&sKey=NzhiYjkwMmZjNWVjNGM4ZTFlZDhlMmIwZTFlZWRjNzA&flag=1&sname=loco_video_364000_60.ts\\n#EXTINF:10.000\\nhttps://v15.51cto.com/?p=/part/2017/12/14/209962/4ab3/general/loco_video_364000_61.ts&stime=1528945170&sKey=ZDQwNzNhMDZmYWRiMDc3MWQ0MGZlMGRhMmNhZmEyMTQ&flag=1&sname=loco_video_364000_61.ts\\n#EXTINF:10.000\\nhttps://v15.51cto.com/?p=/part/2017/12/14/209962/4ab3/general/loco_video_364000_62.ts&stime=1528945170&sKey=OTg0YWMyNGExYjE2NDY4OGI1ZmQwYWMyMDhlZTE5MTQ&flag=1&sname=loco_video_364000_62.ts\\n#EXTINF:10.000\\nhttps://v15.51cto.com/?p=/part/2017/12/14/209962/4ab3/general/loco_video_364000_63.ts&stime=1528945170&sKey=NTk4MjFmMzBmZmRiNDc4M2MxOGQ1OGZiNDZkNTQwZDE&flag=1&sname=loco_video_364000_63.ts\\n#EXTINF:10.000\\nhttps://v15.51cto.com/?p=/part/2017/12/14/209962/4ab3/general/loco_video_364000_64.ts&stime=1528945170&sKey=NWZhZGRmMmQzYzE0MDA3ZDFjMTY0Yjc3OTQ2MjY4ZDM&flag=1&sname=loco_video_364000_64.ts\\n#EXTINF:10.000\\nhttps://v15.51cto.com/?p=/part/2017/12/14/209962/4ab3/general/loco_video_364000_65.ts&stime=1528945170&sKey=ZTE0ZDFmYmY0MmQ2ODk2YjU1ZDA5Njc0ZjE4MDJlZWE&flag=1&sname=loco_video_364000_65.ts\\n#EXTINF:10.000\\nhttps://v15.51cto.com/?p=/part/2017/12/14/209962/4ab3/general/loco_video_364000_66.ts&stime=1528945170&sKey=MDYzZGJlOTI3MTk2MmMyNjlkMWRlZDI1YWI5YzU1MmM&flag=1&sname=loco_video_364000_66.ts\\n#EXTINF:10.000\\nhttps://v15.51cto.com/?p=/part/2017/12/14/209962/4ab3/general/loco_video_364000_67.ts&stime=1528945170&sKey=N2E4N2I4NjI3Y2U3MTBhYjQ0MzAyYmQzNGM2N2VjNWM&flag=1&sname=loco_video_364000_67.ts\\n#EXTINF:7.700\\nhttps://v15.51cto.com/?p=/part/2017/12/14/209962/4ab3/general/loco_video_364000_68.ts&stime=1528945170&sKey=ZmEwMzU5Njc5ZWUxMjUzOTExYjcyMGQ3MjY0ZmM5NDQ&flag=1&sname=loco_video_364000_68.ts\\n#EXT-X-ENDLIST\\n'"
      ]
     },
     "execution_count": 4,
     "metadata": {},
     "output_type": "execute_result"
    }
   ],
   "source": [
    "res.text"
   ]
  },
  {
   "cell_type": "code",
   "execution_count": 40,
   "metadata": {},
   "outputs": [],
   "source": [
    "import re"
   ]
  },
  {
   "cell_type": "code",
   "execution_count": 42,
   "metadata": {},
   "outputs": [
    {
     "data": {
      "text/plain": [
       "['https://v15.51cto.com/?p=/part/2017/12/14/209962/4ab3/general/loco_video_364000_0.ts&stime=1528864873&sKey=MTY0MmYyNWQ4M2NjYTMyMWE3YTM3ZTRmOWNkZWI1YmM&flag=1&sname=loco_video_364000_0.ts',\n",
       " 'https://v15.51cto.com/?p=/part/2017/12/14/209962/4ab3/general/loco_video_364000_1.ts&stime=1528864873&sKey=NmVhODM4NmRhMTAyMWYwMzdiZTYyZjBiZWJlNmU1MzM&flag=1&sname=loco_video_364000_1.ts',\n",
       " 'https://v15.51cto.com/?p=/part/2017/12/14/209962/4ab3/general/loco_video_364000_2.ts&stime=1528864873&sKey=NGM4MzAxOTQ4NmNlNzNmOWU1ODk5MWM2MTc2MzNmMWQ&flag=1&sname=loco_video_364000_2.ts',\n",
       " 'https://v15.51cto.com/?p=/part/2017/12/14/209962/4ab3/general/loco_video_364000_3.ts&stime=1528864873&sKey=MWM1M2JiY2NlMzY4ZTUwZTQ0M2JjZTg3NTExMDg4NmU&flag=1&sname=loco_video_364000_3.ts',\n",
       " 'https://v15.51cto.com/?p=/part/2017/12/14/209962/4ab3/general/loco_video_364000_4.ts&stime=1528864873&sKey=Y2YzMmQ3ZDM1MDJhZDliYjE4MDEyYzRiZTYwMjYwODA&flag=1&sname=loco_video_364000_4.ts',\n",
       " 'https://v15.51cto.com/?p=/part/2017/12/14/209962/4ab3/general/loco_video_364000_5.ts&stime=1528864873&sKey=ZDI1YTJiOWZmZWVhNjhkZjdiM2Q5NWU0Y2FiMjcyY2Y&flag=1&sname=loco_video_364000_5.ts',\n",
       " 'https://v15.51cto.com/?p=/part/2017/12/14/209962/4ab3/general/loco_video_364000_6.ts&stime=1528864873&sKey=MTZiZDRkYjY1YjkxMzcyYTFjNmU3MjhiZjIxMTA4YzM&flag=1&sname=loco_video_364000_6.ts',\n",
       " 'https://v15.51cto.com/?p=/part/2017/12/14/209962/4ab3/general/loco_video_364000_7.ts&stime=1528864873&sKey=NTE0YmMzOTdmNDc4MDY0NGJjNjIwMGYxNDg4MTJmYjg&flag=1&sname=loco_video_364000_7.ts',\n",
       " 'https://v15.51cto.com/?p=/part/2017/12/14/209962/4ab3/general/loco_video_364000_8.ts&stime=1528864873&sKey=NDZiMDBkNzk1Njk5YjBiZmJhMDA4MjNiOTNlYTE0YzI&flag=1&sname=loco_video_364000_8.ts',\n",
       " 'https://v15.51cto.com/?p=/part/2017/12/14/209962/4ab3/general/loco_video_364000_9.ts&stime=1528864873&sKey=MzQ0NTY3ZTViYTA4OGNiNjhjMzVhZjc0ODI2ZTRiZjM&flag=1&sname=loco_video_364000_9.ts',\n",
       " 'https://v15.51cto.com/?p=/part/2017/12/14/209962/4ab3/general/loco_video_364000_10.ts&stime=1528864873&sKey=ZGUzYjIyY2UzMzhkY2RiZWVmOTEyNzcxODMzMmQxYjE&flag=1&sname=loco_video_364000_10.ts',\n",
       " 'https://v15.51cto.com/?p=/part/2017/12/14/209962/4ab3/general/loco_video_364000_11.ts&stime=1528864873&sKey=NmYyN2NiMjc3N2U5NzZlNTA0YWZhMTI0MzY3YmJiNGQ&flag=1&sname=loco_video_364000_11.ts',\n",
       " 'https://v15.51cto.com/?p=/part/2017/12/14/209962/4ab3/general/loco_video_364000_12.ts&stime=1528864873&sKey=MzczZTkyNGMxMjkyOTA5MzNmNzcyYjFmNDE0NjEyY2E&flag=1&sname=loco_video_364000_12.ts',\n",
       " 'https://v15.51cto.com/?p=/part/2017/12/14/209962/4ab3/general/loco_video_364000_13.ts&stime=1528864873&sKey=MjcwMDM1ZWY3YjcxYzAyNGNkMmUxODY4MmNlMDljZjE&flag=1&sname=loco_video_364000_13.ts',\n",
       " 'https://v15.51cto.com/?p=/part/2017/12/14/209962/4ab3/general/loco_video_364000_14.ts&stime=1528864873&sKey=MmE1OTRjYWJkMDhhMzQ4MDYxNzRlMWYzM2VkN2JhYjg&flag=1&sname=loco_video_364000_14.ts',\n",
       " 'https://v15.51cto.com/?p=/part/2017/12/14/209962/4ab3/general/loco_video_364000_15.ts&stime=1528864873&sKey=NDEzN2ViNmM5NDkxODZlNzEyOGNlMjkzM2RkOGM3Zjc&flag=1&sname=loco_video_364000_15.ts',\n",
       " 'https://v15.51cto.com/?p=/part/2017/12/14/209962/4ab3/general/loco_video_364000_16.ts&stime=1528864873&sKey=OTk5NDEyZjUwN2NlZTllODc0MTJkNjNhZTE5ZjE1M2E&flag=1&sname=loco_video_364000_16.ts',\n",
       " 'https://v15.51cto.com/?p=/part/2017/12/14/209962/4ab3/general/loco_video_364000_17.ts&stime=1528864873&sKey=NjYwMTZlZjU1Y2UxMGQyZmZiZjQ1NTM1MTE2M2ZmMTQ&flag=1&sname=loco_video_364000_17.ts',\n",
       " 'https://v15.51cto.com/?p=/part/2017/12/14/209962/4ab3/general/loco_video_364000_18.ts&stime=1528864873&sKey=NjQ0ZGU0ZGExODY1ZDZhMDZiZWZjNzc5OTg1Yzk3MGQ&flag=1&sname=loco_video_364000_18.ts',\n",
       " 'https://v15.51cto.com/?p=/part/2017/12/14/209962/4ab3/general/loco_video_364000_19.ts&stime=1528864873&sKey=NjVhMTY3OGUzODY4MzlkMTZkYjJmMGRhNmY4ZWU0ZmE&flag=1&sname=loco_video_364000_19.ts',\n",
       " 'https://v15.51cto.com/?p=/part/2017/12/14/209962/4ab3/general/loco_video_364000_20.ts&stime=1528864873&sKey=M2ZkMzk1ZTIwMDg0ZTIxNDFmZGE4ZjkxY2ZlZmM3MDA&flag=1&sname=loco_video_364000_20.ts',\n",
       " 'https://v15.51cto.com/?p=/part/2017/12/14/209962/4ab3/general/loco_video_364000_21.ts&stime=1528864873&sKey=NjBmNDMxZjFhOGY4ZDk5YmM4OGMzZDA5NDQ5YTQyY2E&flag=1&sname=loco_video_364000_21.ts',\n",
       " 'https://v15.51cto.com/?p=/part/2017/12/14/209962/4ab3/general/loco_video_364000_22.ts&stime=1528864873&sKey=ZDY2ZjRkMDdmOGY2OTFhYmViNWFmMjdjODAxNmVkYzA&flag=1&sname=loco_video_364000_22.ts',\n",
       " 'https://v15.51cto.com/?p=/part/2017/12/14/209962/4ab3/general/loco_video_364000_23.ts&stime=1528864873&sKey=NDM2N2VmZjgwZDdmOTM2ZDYzMzQxMDMyZDk3MjAzMmU&flag=1&sname=loco_video_364000_23.ts',\n",
       " 'https://v15.51cto.com/?p=/part/2017/12/14/209962/4ab3/general/loco_video_364000_24.ts&stime=1528864873&sKey=M2M1ZjA5NTc3MmY3MGIzNDdiZjIzZTYxNDY4MTI5NDE&flag=1&sname=loco_video_364000_24.ts',\n",
       " 'https://v15.51cto.com/?p=/part/2017/12/14/209962/4ab3/general/loco_video_364000_25.ts&stime=1528864873&sKey=NTYwYjVlMGYyNzhhNjJkMGZjM2ZiMDViYmU2NjNkNjU&flag=1&sname=loco_video_364000_25.ts',\n",
       " 'https://v15.51cto.com/?p=/part/2017/12/14/209962/4ab3/general/loco_video_364000_26.ts&stime=1528864873&sKey=ZGQxOTExODA1MTQ1YmZiYWViZTVlMGQ3Mjk2MGZkMzM&flag=1&sname=loco_video_364000_26.ts',\n",
       " 'https://v15.51cto.com/?p=/part/2017/12/14/209962/4ab3/general/loco_video_364000_27.ts&stime=1528864873&sKey=MGVlYmM2NWYwYmU1NjliYmM3MWZjYzg2ZWJjY2E2MzM&flag=1&sname=loco_video_364000_27.ts',\n",
       " 'https://v15.51cto.com/?p=/part/2017/12/14/209962/4ab3/general/loco_video_364000_28.ts&stime=1528864873&sKey=YmQwNjlhM2Y5MDI4ODU1MGFkNjBjZGRiZjUxYjY0ODc&flag=1&sname=loco_video_364000_28.ts',\n",
       " 'https://v15.51cto.com/?p=/part/2017/12/14/209962/4ab3/general/loco_video_364000_29.ts&stime=1528864873&sKey=MTFkZDA5MWY2NmVkZGNlNzA1MGRiZjI2YWQ1NjNmYTc&flag=1&sname=loco_video_364000_29.ts',\n",
       " 'https://v15.51cto.com/?p=/part/2017/12/14/209962/4ab3/general/loco_video_364000_30.ts&stime=1528864873&sKey=YmI5YWQyMzZlMDA5YTg2NWNhYWM0ZWYzN2I5YmFjNTc&flag=1&sname=loco_video_364000_30.ts',\n",
       " 'https://v15.51cto.com/?p=/part/2017/12/14/209962/4ab3/general/loco_video_364000_31.ts&stime=1528864873&sKey=YWIxZjZkNjRkNGUzMDNlNWY2MTczOWEyNDY4OTcyNjI&flag=1&sname=loco_video_364000_31.ts',\n",
       " 'https://v15.51cto.com/?p=/part/2017/12/14/209962/4ab3/general/loco_video_364000_32.ts&stime=1528864873&sKey=NGU1M2E5NGZjMjFmZDczMDVmNzczYmU4NDQzZjY2NWY&flag=1&sname=loco_video_364000_32.ts',\n",
       " 'https://v15.51cto.com/?p=/part/2017/12/14/209962/4ab3/general/loco_video_364000_33.ts&stime=1528864873&sKey=ZDkyZDkxNjllODQwZGJlZmM2MmJlOGUzNThkMmJlNmU&flag=1&sname=loco_video_364000_33.ts',\n",
       " 'https://v15.51cto.com/?p=/part/2017/12/14/209962/4ab3/general/loco_video_364000_34.ts&stime=1528864873&sKey=OTk5YWJjMmNlM2E5NGQ5MGY1OGRkNjFjOWNkMDU3NjE&flag=1&sname=loco_video_364000_34.ts',\n",
       " 'https://v15.51cto.com/?p=/part/2017/12/14/209962/4ab3/general/loco_video_364000_35.ts&stime=1528864873&sKey=Mzg5ZTU0MzYyODJhNzliMGJjM2VhZjc5YWUxNjFhMjE&flag=1&sname=loco_video_364000_35.ts',\n",
       " 'https://v15.51cto.com/?p=/part/2017/12/14/209962/4ab3/general/loco_video_364000_36.ts&stime=1528864873&sKey=Mzc1Y2VlMTQ5YThhMTZiZTlhMzUwMjgzOTY3MzU1OGY&flag=1&sname=loco_video_364000_36.ts',\n",
       " 'https://v15.51cto.com/?p=/part/2017/12/14/209962/4ab3/general/loco_video_364000_37.ts&stime=1528864873&sKey=MzQxYWVjODQ4OGNkNzU1MWQyOTE0NjQ4ZjdkZGEzNzk&flag=1&sname=loco_video_364000_37.ts',\n",
       " 'https://v15.51cto.com/?p=/part/2017/12/14/209962/4ab3/general/loco_video_364000_38.ts&stime=1528864873&sKey=ODZkMDhmMjFjMDk2N2Q1MWQyNmJkYWJjYzQxNzMyMWU&flag=1&sname=loco_video_364000_38.ts',\n",
       " 'https://v15.51cto.com/?p=/part/2017/12/14/209962/4ab3/general/loco_video_364000_39.ts&stime=1528864873&sKey=OWNlMDQwMGQ3ZDcxN2NkMDBiNDRiNzk5NWY5ZjA2OTM&flag=1&sname=loco_video_364000_39.ts',\n",
       " 'https://v15.51cto.com/?p=/part/2017/12/14/209962/4ab3/general/loco_video_364000_40.ts&stime=1528864873&sKey=Yjg4Njk3MDIwYTMyNzhiNDI0NDMzMTI3NWVlYWJmYTg&flag=1&sname=loco_video_364000_40.ts',\n",
       " 'https://v15.51cto.com/?p=/part/2017/12/14/209962/4ab3/general/loco_video_364000_41.ts&stime=1528864873&sKey=ZWRmNzUxMjkxOGI2NWFiZDY4NmFlMTM5ODMyMWU2MDU&flag=1&sname=loco_video_364000_41.ts',\n",
       " 'https://v15.51cto.com/?p=/part/2017/12/14/209962/4ab3/general/loco_video_364000_42.ts&stime=1528864873&sKey=ZTYxMGE4ZjViODZhY2Y3MDNmMzhmMmM0ZWRmMTc0MzY&flag=1&sname=loco_video_364000_42.ts',\n",
       " 'https://v15.51cto.com/?p=/part/2017/12/14/209962/4ab3/general/loco_video_364000_43.ts&stime=1528864873&sKey=ZTRkOTI0N2ExMDU4MmUxNmI2NWZhMDliZDMwNWFmZTI&flag=1&sname=loco_video_364000_43.ts',\n",
       " 'https://v15.51cto.com/?p=/part/2017/12/14/209962/4ab3/general/loco_video_364000_44.ts&stime=1528864873&sKey=NWQwNGNiY2I5Y2QxZGFiN2Q2ZmQyZjUzM2I4NmY5ZGE&flag=1&sname=loco_video_364000_44.ts',\n",
       " 'https://v15.51cto.com/?p=/part/2017/12/14/209962/4ab3/general/loco_video_364000_45.ts&stime=1528864873&sKey=ZTNhMjdkMWEyOTUxMjE3NWRjYzUyZmE5NjExN2M4ZWQ&flag=1&sname=loco_video_364000_45.ts',\n",
       " 'https://v15.51cto.com/?p=/part/2017/12/14/209962/4ab3/general/loco_video_364000_46.ts&stime=1528864873&sKey=NWE0ZTMzOWNlYzI1NzY1NjNjZGM2ZWExNjdkMGNlYzc&flag=1&sname=loco_video_364000_46.ts',\n",
       " 'https://v15.51cto.com/?p=/part/2017/12/14/209962/4ab3/general/loco_video_364000_47.ts&stime=1528864873&sKey=NmFjNTg5NzJjODIxYzU5YzM2OTdiZmNmOWE1YTgzY2Y&flag=1&sname=loco_video_364000_47.ts',\n",
       " 'https://v15.51cto.com/?p=/part/2017/12/14/209962/4ab3/general/loco_video_364000_48.ts&stime=1528864873&sKey=ZjI3M2RjOGU1ZTk1YjBhNzFmYzE0ZDU2MjA1NjQyMmE&flag=1&sname=loco_video_364000_48.ts',\n",
       " 'https://v15.51cto.com/?p=/part/2017/12/14/209962/4ab3/general/loco_video_364000_49.ts&stime=1528864873&sKey=MDFkZGM5ZTdhZGVhYzczY2NkMzUyM2QxNzlhNjRlZjA&flag=1&sname=loco_video_364000_49.ts',\n",
       " 'https://v15.51cto.com/?p=/part/2017/12/14/209962/4ab3/general/loco_video_364000_50.ts&stime=1528864873&sKey=YjEwNDZkNWExYzhmY2VkODk3Y2YxMWQ1Mzk2YTAxNzA&flag=1&sname=loco_video_364000_50.ts',\n",
       " 'https://v15.51cto.com/?p=/part/2017/12/14/209962/4ab3/general/loco_video_364000_51.ts&stime=1528864873&sKey=N2I0MDhjNTIwYzZlODU1OWI4MTM2YTczNjY4ZTk3NjY&flag=1&sname=loco_video_364000_51.ts',\n",
       " 'https://v15.51cto.com/?p=/part/2017/12/14/209962/4ab3/general/loco_video_364000_52.ts&stime=1528864873&sKey=MjI2NTBmZTgwZTk0ZDU4ZWY5NzFjYTQ2NTQ4MDhmODI&flag=1&sname=loco_video_364000_52.ts',\n",
       " 'https://v15.51cto.com/?p=/part/2017/12/14/209962/4ab3/general/loco_video_364000_53.ts&stime=1528864873&sKey=ZTliYTY4MTRjYzMyNzFiMzU2MmUxODQ1MTJiZmQxODY&flag=1&sname=loco_video_364000_53.ts',\n",
       " 'https://v15.51cto.com/?p=/part/2017/12/14/209962/4ab3/general/loco_video_364000_54.ts&stime=1528864873&sKey=YmE3ZjNhM2NmMGRhYjY4YzhlOWExN2YxNGM2ZmJhZjc&flag=1&sname=loco_video_364000_54.ts',\n",
       " 'https://v15.51cto.com/?p=/part/2017/12/14/209962/4ab3/general/loco_video_364000_55.ts&stime=1528864873&sKey=NDg1OGI0OWUyYTQ5N2FkYTdiNGY1NTY1M2NmZGZhMDk&flag=1&sname=loco_video_364000_55.ts',\n",
       " 'https://v15.51cto.com/?p=/part/2017/12/14/209962/4ab3/general/loco_video_364000_56.ts&stime=1528864873&sKey=NTMyYjBmZDQ4ZGI2ZjFkMzQxOTUzNmFlYTlhY2RjODE&flag=1&sname=loco_video_364000_56.ts',\n",
       " 'https://v15.51cto.com/?p=/part/2017/12/14/209962/4ab3/general/loco_video_364000_57.ts&stime=1528864873&sKey=NTM5NjM5ZDUxNGZjNWQyYTdhOGY5NDc0MzhhZWMzZDQ&flag=1&sname=loco_video_364000_57.ts',\n",
       " 'https://v15.51cto.com/?p=/part/2017/12/14/209962/4ab3/general/loco_video_364000_58.ts&stime=1528864873&sKey=ZGQzNGVkNGJmNDVjMDdjMTA4YWJiMWJjMTBhY2ZlMDE&flag=1&sname=loco_video_364000_58.ts',\n",
       " 'https://v15.51cto.com/?p=/part/2017/12/14/209962/4ab3/general/loco_video_364000_59.ts&stime=1528864873&sKey=YmFiOGZjMzAwYWEzOTFmNzk0NjU4MTJjY2U5NzhlNmY&flag=1&sname=loco_video_364000_59.ts',\n",
       " 'https://v15.51cto.com/?p=/part/2017/12/14/209962/4ab3/general/loco_video_364000_60.ts&stime=1528864873&sKey=YjBlYWRiZmY4MDY4YzMxM2Y4ZjczOGQ0ODRjNjgzMzE&flag=1&sname=loco_video_364000_60.ts',\n",
       " 'https://v15.51cto.com/?p=/part/2017/12/14/209962/4ab3/general/loco_video_364000_61.ts&stime=1528864873&sKey=ZDkzMDMxMmU5NDAwYjY4NDdlODAxNmZiMmUyZWZkMmQ&flag=1&sname=loco_video_364000_61.ts',\n",
       " 'https://v15.51cto.com/?p=/part/2017/12/14/209962/4ab3/general/loco_video_364000_62.ts&stime=1528864873&sKey=MDI0ZjBiNmUwNGM4M2NiNDhkM2Q2OWQ4NjExYTQ0M2U&flag=1&sname=loco_video_364000_62.ts',\n",
       " 'https://v15.51cto.com/?p=/part/2017/12/14/209962/4ab3/general/loco_video_364000_63.ts&stime=1528864873&sKey=MTdmYzMzYjMzOTFhYWUxMmVlNmM3MjA5MzRmMTUwYzY&flag=1&sname=loco_video_364000_63.ts',\n",
       " 'https://v15.51cto.com/?p=/part/2017/12/14/209962/4ab3/general/loco_video_364000_64.ts&stime=1528864873&sKey=NmMwYThhYjgxM2NjMzAxZDAzZGZjMGQxYTM1MWNlN2M&flag=1&sname=loco_video_364000_64.ts',\n",
       " 'https://v15.51cto.com/?p=/part/2017/12/14/209962/4ab3/general/loco_video_364000_65.ts&stime=1528864873&sKey=MjZlYjNlNmJmNDQ5YjIxNThiODVjMjhjZjFkY2I1YjU&flag=1&sname=loco_video_364000_65.ts',\n",
       " 'https://v15.51cto.com/?p=/part/2017/12/14/209962/4ab3/general/loco_video_364000_66.ts&stime=1528864873&sKey=MTg2ODBkN2JmYTFhZmY3ZjJjMzRiNTc5NzQ1ZTFkNTA&flag=1&sname=loco_video_364000_66.ts',\n",
       " 'https://v15.51cto.com/?p=/part/2017/12/14/209962/4ab3/general/loco_video_364000_67.ts&stime=1528864873&sKey=ZmRjNjJmM2E0NTQwOWQ2ODVhZmQ1ZGZmNDM3NWJiOTQ&flag=1&sname=loco_video_364000_67.ts',\n",
       " 'https://v15.51cto.com/?p=/part/2017/12/14/209962/4ab3/general/loco_video_364000_68.ts&stime=1528864873&sKey=ZmI5ZmM3OWQ1ZmRjODU1NzJmNjU3MWNlZTQwZWY0NjU&flag=1&sname=loco_video_364000_68.ts']"
      ]
     },
     "execution_count": 42,
     "metadata": {},
     "output_type": "execute_result"
    }
   ],
   "source": [
    "re.findall(r\"https://.*\\.ts\",res.text)"
   ]
  },
  {
   "cell_type": "code",
   "execution_count": 43,
   "metadata": {},
   "outputs": [],
   "source": [
    "from urllib.parse import urljoin"
   ]
  },
  {
   "cell_type": "code",
   "execution_count": 45,
   "metadata": {},
   "outputs": [
    {
     "data": {
      "text/plain": [
       "'sd'"
      ]
     },
     "execution_count": 45,
     "metadata": {},
     "output_type": "execute_result"
    }
   ],
   "source": [
    "urljoin(\"edu.51cto.com\",\"sd\")"
   ]
  },
  {
   "cell_type": "code",
   "execution_count": 5,
   "metadata": {},
   "outputs": [],
   "source": [
    "url = \"http://edu.51cto.com/center/player/play/get-lesson-info?type=wejoboutcourse&sign=e2cb9768cb4cc14b6e6a89e98fbe03d8&lesson_id=824_256667\""
   ]
  },
  {
   "cell_type": "code",
   "execution_count": 6,
   "metadata": {},
   "outputs": [],
   "source": [
    "res = requests.get(url=url,headers=headers,cookies=cookies)"
   ]
  },
  {
   "cell_type": "code",
   "execution_count": 8,
   "metadata": {},
   "outputs": [
    {
     "ename": "JSONDecodeError",
     "evalue": "Expecting value: line 1 column 1 (char 0)",
     "output_type": "error",
     "traceback": [
      "\u001b[1;31m---------------------------------------------------------------------------\u001b[0m",
      "\u001b[1;31mJSONDecodeError\u001b[0m                           Traceback (most recent call last)",
      "\u001b[1;32m<ipython-input-8-767553517b7e>\u001b[0m in \u001b[0;36m<module>\u001b[1;34m()\u001b[0m\n\u001b[0;32m      1\u001b[0m \u001b[1;32mimport\u001b[0m \u001b[0mjson\u001b[0m\u001b[1;33m\u001b[0m\u001b[0m\n\u001b[1;32m----> 2\u001b[1;33m \u001b[0mjson\u001b[0m\u001b[1;33m.\u001b[0m\u001b[0mloads\u001b[0m\u001b[1;33m(\u001b[0m\u001b[0mres\u001b[0m\u001b[1;33m.\u001b[0m\u001b[0mtext\u001b[0m\u001b[1;33m)\u001b[0m\u001b[1;33m\u001b[0m\u001b[0m\n\u001b[0m",
      "\u001b[1;32mc:\\python\\lib\\json\\__init__.py\u001b[0m in \u001b[0;36mloads\u001b[1;34m(s, encoding, cls, object_hook, parse_float, parse_int, parse_constant, object_pairs_hook, **kw)\u001b[0m\n\u001b[0;32m    352\u001b[0m             \u001b[0mparse_int\u001b[0m \u001b[1;32mis\u001b[0m \u001b[1;32mNone\u001b[0m \u001b[1;32mand\u001b[0m \u001b[0mparse_float\u001b[0m \u001b[1;32mis\u001b[0m \u001b[1;32mNone\u001b[0m \u001b[1;32mand\u001b[0m\u001b[1;33m\u001b[0m\u001b[0m\n\u001b[0;32m    353\u001b[0m             parse_constant is None and object_pairs_hook is None and not kw):\n\u001b[1;32m--> 354\u001b[1;33m         \u001b[1;32mreturn\u001b[0m \u001b[0m_default_decoder\u001b[0m\u001b[1;33m.\u001b[0m\u001b[0mdecode\u001b[0m\u001b[1;33m(\u001b[0m\u001b[0ms\u001b[0m\u001b[1;33m)\u001b[0m\u001b[1;33m\u001b[0m\u001b[0m\n\u001b[0m\u001b[0;32m    355\u001b[0m     \u001b[1;32mif\u001b[0m \u001b[0mcls\u001b[0m \u001b[1;32mis\u001b[0m \u001b[1;32mNone\u001b[0m\u001b[1;33m:\u001b[0m\u001b[1;33m\u001b[0m\u001b[0m\n\u001b[0;32m    356\u001b[0m         \u001b[0mcls\u001b[0m \u001b[1;33m=\u001b[0m \u001b[0mJSONDecoder\u001b[0m\u001b[1;33m\u001b[0m\u001b[0m\n",
      "\u001b[1;32mc:\\python\\lib\\json\\decoder.py\u001b[0m in \u001b[0;36mdecode\u001b[1;34m(self, s, _w)\u001b[0m\n\u001b[0;32m    337\u001b[0m \u001b[1;33m\u001b[0m\u001b[0m\n\u001b[0;32m    338\u001b[0m         \"\"\"\n\u001b[1;32m--> 339\u001b[1;33m         \u001b[0mobj\u001b[0m\u001b[1;33m,\u001b[0m \u001b[0mend\u001b[0m \u001b[1;33m=\u001b[0m \u001b[0mself\u001b[0m\u001b[1;33m.\u001b[0m\u001b[0mraw_decode\u001b[0m\u001b[1;33m(\u001b[0m\u001b[0ms\u001b[0m\u001b[1;33m,\u001b[0m \u001b[0midx\u001b[0m\u001b[1;33m=\u001b[0m\u001b[0m_w\u001b[0m\u001b[1;33m(\u001b[0m\u001b[0ms\u001b[0m\u001b[1;33m,\u001b[0m \u001b[1;36m0\u001b[0m\u001b[1;33m)\u001b[0m\u001b[1;33m.\u001b[0m\u001b[0mend\u001b[0m\u001b[1;33m(\u001b[0m\u001b[1;33m)\u001b[0m\u001b[1;33m)\u001b[0m\u001b[1;33m\u001b[0m\u001b[0m\n\u001b[0m\u001b[0;32m    340\u001b[0m         \u001b[0mend\u001b[0m \u001b[1;33m=\u001b[0m \u001b[0m_w\u001b[0m\u001b[1;33m(\u001b[0m\u001b[0ms\u001b[0m\u001b[1;33m,\u001b[0m \u001b[0mend\u001b[0m\u001b[1;33m)\u001b[0m\u001b[1;33m.\u001b[0m\u001b[0mend\u001b[0m\u001b[1;33m(\u001b[0m\u001b[1;33m)\u001b[0m\u001b[1;33m\u001b[0m\u001b[0m\n\u001b[0;32m    341\u001b[0m         \u001b[1;32mif\u001b[0m \u001b[0mend\u001b[0m \u001b[1;33m!=\u001b[0m \u001b[0mlen\u001b[0m\u001b[1;33m(\u001b[0m\u001b[0ms\u001b[0m\u001b[1;33m)\u001b[0m\u001b[1;33m:\u001b[0m\u001b[1;33m\u001b[0m\u001b[0m\n",
      "\u001b[1;32mc:\\python\\lib\\json\\decoder.py\u001b[0m in \u001b[0;36mraw_decode\u001b[1;34m(self, s, idx)\u001b[0m\n\u001b[0;32m    355\u001b[0m             \u001b[0mobj\u001b[0m\u001b[1;33m,\u001b[0m \u001b[0mend\u001b[0m \u001b[1;33m=\u001b[0m \u001b[0mself\u001b[0m\u001b[1;33m.\u001b[0m\u001b[0mscan_once\u001b[0m\u001b[1;33m(\u001b[0m\u001b[0ms\u001b[0m\u001b[1;33m,\u001b[0m \u001b[0midx\u001b[0m\u001b[1;33m)\u001b[0m\u001b[1;33m\u001b[0m\u001b[0m\n\u001b[0;32m    356\u001b[0m         \u001b[1;32mexcept\u001b[0m \u001b[0mStopIteration\u001b[0m \u001b[1;32mas\u001b[0m \u001b[0merr\u001b[0m\u001b[1;33m:\u001b[0m\u001b[1;33m\u001b[0m\u001b[0m\n\u001b[1;32m--> 357\u001b[1;33m             \u001b[1;32mraise\u001b[0m \u001b[0mJSONDecodeError\u001b[0m\u001b[1;33m(\u001b[0m\u001b[1;34m\"Expecting value\"\u001b[0m\u001b[1;33m,\u001b[0m \u001b[0ms\u001b[0m\u001b[1;33m,\u001b[0m \u001b[0merr\u001b[0m\u001b[1;33m.\u001b[0m\u001b[0mvalue\u001b[0m\u001b[1;33m)\u001b[0m \u001b[1;32mfrom\u001b[0m \u001b[1;32mNone\u001b[0m\u001b[1;33m\u001b[0m\u001b[0m\n\u001b[0m\u001b[0;32m    358\u001b[0m         \u001b[1;32mreturn\u001b[0m \u001b[0mobj\u001b[0m\u001b[1;33m,\u001b[0m \u001b[0mend\u001b[0m\u001b[1;33m\u001b[0m\u001b[0m\n",
      "\u001b[1;31mJSONDecodeError\u001b[0m: Expecting value: line 1 column 1 (char 0)"
     ]
    }
   ],
   "source": [
    "import json\n",
    "json.loads(res.text)"
   ]
  },
  {
   "cell_type": "code",
   "execution_count": 10,
   "metadata": {},
   "outputs": [
    {
     "data": {
      "text/plain": [
       "'loco_video_364000_19.ts'"
      ]
     },
     "execution_count": 10,
     "metadata": {},
     "output_type": "execute_result"
    }
   ],
   "source": [
    "import re\n",
    "i = \"https://v15.51cto.com/?p=/part/2017/12/14/209962/4ab3/general/loco_video_364000_19.ts&stime=1528864873&sKey=NjVhMTY3OGUzODY4MzlkMTZkYjJmMGRhNmY4ZWU0ZmE&flag=1&sname=loco_video_364000_19.ts\"\n",
    "re.search(r\"loco_video.*?ts\",i).group(0)"
   ]
  },
  {
   "cell_type": "code",
   "execution_count": 16,
   "metadata": {},
   "outputs": [],
   "source": [
    "with open(\"Sd.ts\",\"wb\")as f:\n",
    "    f.write(res.content)"
   ]
  },
  {
   "cell_type": "code",
   "execution_count": 20,
   "metadata": {},
   "outputs": [
    {
     "name": "stdout",
     "output_type": "stream",
     "text": [
      "('a', 'd')\n",
      "('b', 'e')\n",
      "('c', 'f')\n",
      "('d', 'g')\n"
     ]
    }
   ],
   "source": [
    "a = [\"a\",\"b\",\"c\",\"d\"]\n",
    "b = [\"d\",\"e\",\"f\",\"g\"]\n",
    "for i in zip(a,b):\n",
    "    print(i)"
   ]
  },
  {
   "cell_type": "code",
   "execution_count": null,
   "metadata": {},
   "outputs": [],
   "source": []
  }
 ],
 "metadata": {
  "kernelspec": {
   "display_name": "Python 3",
   "language": "python",
   "name": "python3"
  },
  "language_info": {
   "codemirror_mode": {
    "name": "ipython",
    "version": 3
   },
   "file_extension": ".py",
   "mimetype": "text/x-python",
   "name": "python",
   "nbconvert_exporter": "python",
   "pygments_lexer": "ipython3",
   "version": "3.6.4"
  }
 },
 "nbformat": 4,
 "nbformat_minor": 2
}
